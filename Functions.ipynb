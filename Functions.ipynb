{
  "nbformat": 4,
  "nbformat_minor": 0,
  "metadata": {
    "colab": {
      "provenance": [],
      "authorship_tag": "ABX9TyO7HiX8gibysjlGt0vbEG3+",
      "include_colab_link": true
    },
    "kernelspec": {
      "name": "python3",
      "display_name": "Python 3"
    },
    "language_info": {
      "name": "python"
    }
  },
  "cells": [
    {
      "cell_type": "markdown",
      "metadata": {
        "id": "view-in-github",
        "colab_type": "text"
      },
      "source": [
        "<a href=\"https://colab.research.google.com/github/beingaurav9090/ASSIGNMENT/blob/main/Functions.ipynb\" target=\"_parent\"><img src=\"https://colab.research.google.com/assets/colab-badge.svg\" alt=\"Open In Colab\"/></a>"
      ]
    },
    {
      "cell_type": "markdown",
      "source": [
        "# FUNCTIONS ASSINGMENT"
      ],
      "metadata": {
        "id": "QjdGICgqUBqN"
      }
    },
    {
      "cell_type": "markdown",
      "source": [
        "# 1.What is the difference between a function and a method in Python?\n",
        "- In Python, a function is a piece of code that performs a specific task and can be called by its name from anywhere in the program. Functions are independent—they are not attached to any object or class. For example, you can define a function def greet(): print(\"Hello!\") and call it just by writing greet(). Functions like len([1, 2, 3]) or user-defined add_numbers(x, y) are executed simply by their name and are not tied to any object.\n",
        "\n",
        "- On the other hand, a method is also a function, but it is associated with an object or class. Methods are defined inside a class, and to use them, you need an object of that class. For example, upper() is a method for string objects, so you call it as \"hello\".upper() to get \"HELLO\". You can also define your own method inside a class.\n"
      ],
      "metadata": {
        "id": "7-dH9jRRUGPW"
      }
    },
    {
      "cell_type": "markdown",
      "source": [
        "# 2.Explain the concept of function arguments and parameters in Python.\n",
        "\n",
        "- In Python, the concept of function arguments and parameters is central to writing flexible and reusable code. Parameters are the names defined in a function’s declaration; they act as placeholders for data the function will use. For example, in def add(x, y):, x and y are parameters that specify what kind of inputs the function expects. When the function is used, arguments are the actual values or data supplied to those parameters. So, if you call add(5, 3), the numbers 5 and 3 are arguments given to the function, filling the spots defined by the parameters x and y"
      ],
      "metadata": {
        "id": "iqErm2OWYJVR"
      }
    },
    {
      "cell_type": "code",
      "source": [
        "def greet(name):\n",
        "    print(\"Hello,\", name)  # 'name' is a parameter\n",
        "\n",
        "greet(\"Aman\")  # \"Alice\" is the argument\n",
        "greet(\"Aryan\")    # \"Bob\" is another argument\n"
      ],
      "metadata": {
        "id": "xlOSIKpRZKdQ"
      },
      "execution_count": null,
      "outputs": []
    },
    {
      "cell_type": "markdown",
      "source": [
        "# 3.What are the different ways to define and call a function in Python?\n",
        "\n",
        "- In Python, functions are defined using the def keyword for standard functions or the lambda keyword for anonymous ones, and they can be called by their name followed by parentheses, optionally with arguments. Below, I'll explain the main ways to define and call functions, with examples.\n",
        "\n",
        ">>1.Standard Function Definition and Call : Use the def keyword to define a function, give it a name, specify optional parameters inside parentheses, and write the function body indented below. You call the function using its name followed by parentheses."
      ],
      "metadata": {
        "id": "ZYvBpHUHgzHc"
      }
    },
    {
      "cell_type": "code",
      "source": [
        "def greet():\n",
        "    print(\"Hello, world!\")\n",
        "\n",
        "greet()  # Calling the function\n",
        "\n"
      ],
      "metadata": {
        "colab": {
          "base_uri": "https://localhost:8080/"
        },
        "id": "Tjo7Pt3b6CZ0",
        "outputId": "c7f94545-7d74-4a3a-9f19-832bbd74317d"
      },
      "execution_count": 1,
      "outputs": [
        {
          "output_type": "stream",
          "name": "stdout",
          "text": [
            "Hello, world!\n"
          ]
        }
      ]
    },
    {
      "cell_type": "markdown",
      "source": [
        ">>2. Function with Parameters and Arguments\n",
        "Functions can take inputs known as parameters. When calling the function, you pass values called arguments."
      ],
      "metadata": {
        "id": "PLEdzIFD6Emq"
      }
    },
    {
      "cell_type": "code",
      "source": [
        "def greet(name):\n",
        "    print(\"Hello,\", name)\n",
        "\n",
        "greet(\"Alice\")  # Output: Hello, Alice\n",
        "greet(\"Bob\")    # Output: Hello, Bob\n",
        "\n"
      ],
      "metadata": {
        "colab": {
          "base_uri": "https://localhost:8080/"
        },
        "id": "5Bj6nd156H1m",
        "outputId": "f21a3f13-e1fb-451f-c049-a475d9e3f2dd"
      },
      "execution_count": 2,
      "outputs": [
        {
          "output_type": "stream",
          "name": "stdout",
          "text": [
            "Hello, Alice\n",
            "Hello, Bob\n"
          ]
        }
      ]
    },
    {
      "cell_type": "markdown",
      "source": [
        ">>3. Functions with Default Parameter Values\n",
        "You can assign default values to parameters. If no argument is passed during the call, the default is used."
      ],
      "metadata": {
        "id": "Iz2lxpyQ6J1d"
      }
    },
    {
      "cell_type": "code",
      "source": [
        "def greet(name=\"Guest\"):\n",
        "    print(\"Hello,\", name)\n",
        "\n",
        "greet()          # Output: Hello, Guest\n",
        "greet(\"Emma\")    # Output: Hello, Emma\n",
        "\n"
      ],
      "metadata": {
        "colab": {
          "base_uri": "https://localhost:8080/"
        },
        "id": "djBBDx7_6MiM",
        "outputId": "9422f621-8f14-4d03-a5ab-bc7ed3de8071"
      },
      "execution_count": 3,
      "outputs": [
        {
          "output_type": "stream",
          "name": "stdout",
          "text": [
            "Hello, Guest\n",
            "Hello, Emma\n"
          ]
        }
      ]
    },
    {
      "cell_type": "markdown",
      "source": [
        ">>4. Function with Variable Number of Arguments (*args and **kwargs)\n",
        "Functions can accept arbitrary numbers of positional or keyword arguments using *args and **kwargs."
      ],
      "metadata": {
        "id": "QSQSE8cF6l93"
      }
    },
    {
      "cell_type": "code",
      "source": [
        "def print_numbers(*args):\n",
        "    for num in args:\n",
        "        print(num)\n",
        "\n",
        "print_numbers(1, 2, 3)  # Prints 1, 2, 3\n",
        "\n",
        "def print_info(**kwargs):\n",
        "    for key, value in kwargs.items():\n",
        "        print(f\"{key}: {value}\")\n",
        "\n",
        "print_info(name=\"Alice\", age=30)\n",
        "\n"
      ],
      "metadata": {
        "colab": {
          "base_uri": "https://localhost:8080/"
        },
        "id": "66018rx16nDA",
        "outputId": "94bda871-b5bd-4def-9d4c-78c447038bb5"
      },
      "execution_count": 4,
      "outputs": [
        {
          "output_type": "stream",
          "name": "stdout",
          "text": [
            "1\n",
            "2\n",
            "3\n",
            "name: Alice\n",
            "age: 30\n"
          ]
        }
      ]
    },
    {
      "cell_type": "markdown",
      "source": [
        ">>5. Anonymous Functions (Lambda)\n",
        "Use lambda to create short, unnamed functions for simple expressions. Useful for small tasks or passing functions as arguments."
      ],
      "metadata": {
        "id": "_3HXwyZr6uZ1"
      }
    },
    {
      "cell_type": "code",
      "source": [
        "add = lambda x, y: x + y\n",
        "print(add(3, 5))  # Output: 8\n",
        "\n",
        "# Immediate call\n",
        "print((lambda x: x * 2)(4))  # Output: 8\n"
      ],
      "metadata": {
        "colab": {
          "base_uri": "https://localhost:8080/"
        },
        "id": "_MwFhtLk6woo",
        "outputId": "290d3504-4c62-416f-90f0-a1c7501772f2"
      },
      "execution_count": 5,
      "outputs": [
        {
          "output_type": "stream",
          "name": "stdout",
          "text": [
            "8\n",
            "8\n"
          ]
        }
      ]
    },
    {
      "cell_type": "markdown",
      "source": [
        ">>6. Nested Functions\n",
        "A function defined inside another function, useful for encapsulation or helper logic."
      ],
      "metadata": {
        "id": "PmGT9Z9v6yct"
      }
    },
    {
      "cell_type": "code",
      "source": [
        "def outer():\n",
        "    def inner():\n",
        "        print(\"Inside inner function\")\n",
        "    inner()\n",
        "\n",
        "outer()  # Output: Inside inner function\n"
      ],
      "metadata": {
        "colab": {
          "base_uri": "https://localhost:8080/"
        },
        "id": "Qn7sjCTP62H1",
        "outputId": "e633c9a9-2270-48fa-f995-225ec23ee131"
      },
      "execution_count": 6,
      "outputs": [
        {
          "output_type": "stream",
          "name": "stdout",
          "text": [
            "Inside inner function\n"
          ]
        }
      ]
    },
    {
      "cell_type": "markdown",
      "source": [
        "# 4.What is the purpose of the `return` statement in a Python function?\n",
        "\n",
        "- The return statement in a Python function has two main purposes: it exits the function immediately and sends a value back to the place where the function was called. When a function executes a return statement, the function stops running, and the value specified after return is passed back to the caller. This allows the output of the function to be saved, used in other expressions, or processed further.\n",
        "\n",
        "If a function does not have a return statement or has a return without a value, the function returns None by default.\n",
        "\n"
      ],
      "metadata": {
        "id": "EQ-2b9P98K1a"
      }
    },
    {
      "cell_type": "code",
      "source": [
        "def add(a, b):\n",
        "    return a + b  # returns the sum to the caller\n",
        "\n",
        "result = add(5, 3)\n",
        "print(result)  # Output: 8\n"
      ],
      "metadata": {
        "colab": {
          "base_uri": "https://localhost:8080/"
        },
        "id": "EsFIBV8H8eCh",
        "outputId": "40354354-e83c-40bf-b4af-b316f48aeacc"
      },
      "execution_count": 7,
      "outputs": [
        {
          "output_type": "stream",
          "name": "stdout",
          "text": [
            "8\n"
          ]
        }
      ]
    },
    {
      "cell_type": "markdown",
      "source": [
        "# 5.What are iterators in Python and how do they differ from iterables?\n",
        "\n",
        "- An iterable is like a container you can go through one item at a time. For example, a list, a string, or a tuple are iterables because you can loop over their elements one by one.\n",
        "\n",
        "- An iterator is the tool that actually does the going through of the items. It remembers where it is and gives you the next item each time you ask for it. Once it's given you all items, it stops.\n",
        "\n",
        "- Iterators implement both __iter__() (returning themselves) and __next__() methods. Every iterator is also an iterable but not every iterable is an iterator.\n",
        "\n",
        "-"
      ],
      "metadata": {
        "id": "-ZbuE3wE8gzi"
      }
    },
    {
      "cell_type": "code",
      "source": [
        "my_list = [10, 20, 30]      # This is an iterable\n",
        "my_iter = iter(my_list)     # Get an iterator from the iterable\n",
        "\n",
        "print(next(my_iter))\n",
        "print(next(my_iter))\n",
        "print(next(my_iter))\n",
        "# If you call next(my_iter) again, it will raise StopIteration because there are no more items\n"
      ],
      "metadata": {
        "colab": {
          "base_uri": "https://localhost:8080/"
        },
        "id": "e4Ou2H-e_Sn0",
        "outputId": "fb61e447-ee2d-4ab6-f7b2-1038c2f826b2"
      },
      "execution_count": 8,
      "outputs": [
        {
          "output_type": "stream",
          "name": "stdout",
          "text": [
            "10\n",
            "20\n",
            "30\n"
          ]
        }
      ]
    },
    {
      "cell_type": "markdown",
      "source": [
        "# 6. Explain the concept of generators in Python and how they are defined.\n",
        "\n",
        "- A generator in Python is a special type of function that helps you get one value at a time, instead of getting all values together in a list. This saves memory and lets you handle big or endless sets of data easily.\n",
        "\n",
        "- You define a generator like a regular function, but you use the keyword yield instead of return.Every time the generator runs into a yield, it sends out one value, pauses, and waits until you ask for the next value.When you call the function, it gives you a generator object. You use next() or a for loop to get each value, one by one."
      ],
      "metadata": {
        "id": "ZtIBueR4_dqN"
      }
    },
    {
      "cell_type": "code",
      "source": [
        "def counter():\n",
        "    yield 1\n",
        "    yield 2\n",
        "    yield 3\n",
        "\n",
        "# Using the generator\n",
        "for number in counter():\n",
        "    print(number)\n"
      ],
      "metadata": {
        "colab": {
          "base_uri": "https://localhost:8080/"
        },
        "id": "QZP7JyJLUum-",
        "outputId": "2c2da28d-a3a2-49d7-f0bf-8c2fea805e65"
      },
      "execution_count": 2,
      "outputs": [
        {
          "output_type": "stream",
          "name": "stdout",
          "text": [
            "1\n",
            "2\n",
            "3\n"
          ]
        }
      ]
    },
    {
      "cell_type": "markdown",
      "source": [
        "# 7.What are the advantages of using generators over regular functions?\n",
        "\n",
        "- Using generators in Python has several important advantages over regular functions. Generators produce values one at a time using the yield keyword, which means they do not need to generate and store the entire list of results in memory upfront. This makes generators much more memory-efficient, especially when working with large data sets or infinite sequences.\n",
        "\n",
        "-  Instead of waiting for the whole computation to finish, generators produce each value only when it’s requested, which improves the performance by allowing lazy evaluation.\n",
        "\n",
        "-  Generators also maintain their internal state between each yield, so they can pause and resume processing seamlessly, unlike regular functions which run start to finish and return a single value.\n",
        "\n",
        "- This behavior makes generators ideal for streaming data or handling continuous input without loading everything into memory. Additionally, generators simplify code for creating iterators and can be chained together for pipeline-style data processing.\n"
      ],
      "metadata": {
        "id": "Mxf81sMGVJUA"
      }
    },
    {
      "cell_type": "markdown",
      "source": [
        "# 8. What is a lambda function in Python and when is it typically used?\n",
        "\n",
        "- A lambda function in Python is a small anonymous function, meaning it is a function without a name. It is defined using the lambda keyword, followed by the function’s parameters, a colon, and a single expression. The lambda function evaluates and returns the result of that expression. Unlike regular functions defined with def, lambda functions can contain only one expression and are meant to be short and used for quick, simple tasks.\n",
        "\n",
        "- When are lambda functions typically used?\n",
        "\n",
        ">When a simple function is needed for a short time, often as an argument to higher-order functions like map(), filter(), or sorted().\n",
        "\n",
        ">To write compact and concise code without formally defining a function with a name.\n",
        "\n",
        ">For small operations where defining a full function seems unnecessary.\n",
        "\n",
        "For example, using lambda inside filter() to get even numbers from a list:\n"
      ],
      "metadata": {
        "id": "Om4R_MFTVsMj"
      }
    },
    {
      "cell_type": "code",
      "source": [
        "numbers = [1, 2, 3, 4, 5]\n",
        "evens = list(filter(lambda x: x % 2 == 0, numbers))\n",
        "print(evens)\n"
      ],
      "metadata": {
        "colab": {
          "base_uri": "https://localhost:8080/"
        },
        "id": "e11mmpgJWM8u",
        "outputId": "481efffb-5d98-4066-97e7-2241d133ab45"
      },
      "execution_count": 3,
      "outputs": [
        {
          "output_type": "stream",
          "name": "stdout",
          "text": [
            "[2, 4]\n"
          ]
        }
      ]
    },
    {
      "cell_type": "markdown",
      "source": [
        "# 9. Explain the purpose and usage of the `map()` function in Python.\n",
        "\n",
        "- The map() function in Python is used to apply a given function to every item of an iterable (like a list, tuple, etc.) and returns a map object (an iterator) with the results. It is especially useful for transforming data without writing explicit loops.\n",
        "\n",
        "- For example, if you want to square each number in a list, you can write a function to square a number, and then use map() to apply that function to every item:"
      ],
      "metadata": {
        "id": "aRL98WoWWQl2"
      }
    },
    {
      "cell_type": "code",
      "source": [
        "def square(x):\n",
        "    return x * x\n",
        "\n",
        "numbers = [1, 2, 3, 4]\n",
        "squared_numbers = map(square, numbers)\n",
        "\n",
        "print(list(squared_numbers))\n"
      ],
      "metadata": {
        "colab": {
          "base_uri": "https://localhost:8080/"
        },
        "id": "HKD2YPmBW-p8",
        "outputId": "3b76f1fd-35eb-4444-8ec1-b2dbec0e67d9"
      },
      "execution_count": 4,
      "outputs": [
        {
          "output_type": "stream",
          "name": "stdout",
          "text": [
            "[1, 4, 9, 16]\n"
          ]
        }
      ]
    },
    {
      "cell_type": "markdown",
      "source": [
        "# 10. What is the difference between `map()`, `reduce()`, and `filter()` functions in Python?\n",
        "\n",
        "-\n",
        "The map(), filter(), and reduce() functions in Python are tools to process collections like lists, but they serve different purposes:\n",
        "\n",
        ">map(): Applies a function to every item in a list (or iterable) and returns a new list of results. It transforms each element. For example, doubling every number in a list.\n",
        "\n",
        ">filter(): Goes through the list and selects only the items that meet a certain condition (the condition is a function returning True or False). It filters elements to create a smaller subset. For example, selecting only even numbers from a list.\n",
        "\n",
        ">reduce(): Takes a list and combines all its items into a single value by repeatedly applying a function that merges two items at a time. For example, summing all numbers in a list. Note: reduce() is in the functools module and needs to be imported."
      ],
      "metadata": {
        "id": "PjrXoBA1Xeg-"
      }
    },
    {
      "cell_type": "code",
      "source": [
        "from functools import reduce\n",
        "\n",
        "numbers = [1, 2, 3, 4]\n",
        "\n",
        "# map: double each number\n",
        "doubled = list(map(lambda x: x * 2, numbers))\n",
        "print(doubled)\n",
        "\n",
        "# filter: only even numbers\n",
        "evens = list(filter(lambda x: x % 2 == 0, numbers))\n",
        "print(evens)\n",
        "\n",
        "# reduce: sum all numbers\n",
        "total = reduce(lambda x, y: x + y, numbers)\n",
        "print(total)\n"
      ],
      "metadata": {
        "colab": {
          "base_uri": "https://localhost:8080/"
        },
        "id": "b2vZAj2oXtdN",
        "outputId": "4a33ca15-24d7-42f6-f36d-4bf4ad0f7643"
      },
      "execution_count": 5,
      "outputs": [
        {
          "output_type": "stream",
          "name": "stdout",
          "text": [
            "[2, 4, 6, 8]\n",
            "[2, 4]\n",
            "10\n"
          ]
        }
      ]
    },
    {
      "cell_type": "markdown",
      "source": [
        "# Using pen & Paper write the internal mechanism for sum operation using  reduce function on this given\n",
        "\n",
        "- Doc uploaded with pdf."
      ],
      "metadata": {
        "id": "cPHo5E2sY0Xi"
      }
    },
    {
      "cell_type": "markdown",
      "source": [
        "##PRACTICAL QUESTIONS"
      ],
      "metadata": {
        "id": "JzMDRJOXas_T"
      }
    },
    {
      "cell_type": "code",
      "source": [
        "# 1.Write a Python function that takes a list of numbers as input and returns the sum of all even numbers in the list.\n",
        "\n",
        "def sum_even_numbers(numbers):\n",
        "    return sum(num for num in numbers if num % 2 == 0)\n",
        "numbers_list = [10, 11, 20, 21, 30, 31]\n",
        "result = sum_even_numbers(numbers_list)\n",
        "print(\"Sum of even numbers:\", result)\n",
        "\n",
        "\n",
        "\n"
      ],
      "metadata": {
        "colab": {
          "base_uri": "https://localhost:8080/"
        },
        "id": "dX4AWDRDeQin",
        "outputId": "02988bfd-2902-4d89-af4a-f15f90dc8ddf"
      },
      "execution_count": 12,
      "outputs": [
        {
          "output_type": "stream",
          "name": "stdout",
          "text": [
            "Sum of even numbers: 60\n"
          ]
        }
      ]
    },
    {
      "cell_type": "code",
      "source": [
        "# 2.Create a Python function that accepts a string and returns the reverse of that string.\n",
        "\n",
        "def reverse_string(s):\n",
        "    return s[::-1]\n",
        "input_str = \"My Name is Gaurav\"\n",
        "reversed_str = reverse_string(input_str)\n",
        "print(reversed_str)\n"
      ],
      "metadata": {
        "colab": {
          "base_uri": "https://localhost:8080/"
        },
        "id": "eF_bVQsGhWsx",
        "outputId": "0f8c7fe9-560b-4104-ea13-1815a9163ad9"
      },
      "execution_count": 13,
      "outputs": [
        {
          "output_type": "stream",
          "name": "stdout",
          "text": [
            "varuaG si emaN yM\n"
          ]
        }
      ]
    },
    {
      "cell_type": "code",
      "source": [
        " # 3.Implement a Python function that takes a list of integers and returns a new list containing the squares of each number.\n",
        "\n",
        "def square_list(numbers):\n",
        "    return list(map(lambda x: x ** 2, numbers))\n",
        "\n",
        "nums = [6, 7, 8, 9]\n",
        "squared_nums = square_list(nums)\n",
        "print(squared_nums)\n",
        "\n",
        "\n"
      ],
      "metadata": {
        "colab": {
          "base_uri": "https://localhost:8080/"
        },
        "id": "AeWj_Y9OpKwC",
        "outputId": "523ceeb4-8ac5-474a-e77b-a6b683736d53"
      },
      "execution_count": 22,
      "outputs": [
        {
          "output_type": "stream",
          "name": "stdout",
          "text": [
            "[36, 49, 64, 81]\n"
          ]
        }
      ]
    },
    {
      "cell_type": "code",
      "source": [
        "# Write a Python function that checks if a given number is prime or not from 1 to 200.\n",
        "\n",
        "def is_prime(number):\n",
        "    if number <= 1:\n",
        "        return False\n",
        "    for i in range(2, number):\n",
        "        if number % i == 0:\n",
        "            return False\n",
        "    return True\n",
        "\n",
        "\n",
        "print(\"List of prime numbers:\")\n",
        "for num in range(1, 201):\n",
        "    if is_prime(num):\n",
        "        print(num, end=' ')\n"
      ],
      "metadata": {
        "colab": {
          "base_uri": "https://localhost:8080/"
        },
        "id": "dIOAikL_xnrr",
        "outputId": "e5fadc03-9e49-4717-e1c1-9a8d945ce157"
      },
      "execution_count": 33,
      "outputs": [
        {
          "output_type": "stream",
          "name": "stdout",
          "text": [
            "List of prime numbers:\n",
            "2 3 5 7 11 13 17 19 23 29 31 37 41 43 47 53 59 61 67 71 73 79 83 89 97 101 103 107 109 113 127 131 137 139 149 151 157 163 167 173 179 181 191 193 197 199 "
          ]
        }
      ]
    },
    {
      "cell_type": "code",
      "source": [
        "#  Create an iterator class in Python that generates the Fibonacci sequence up to a specified number of terms."
      ],
      "metadata": {
        "id": "AxaXAV550ePU"
      },
      "execution_count": null,
      "outputs": []
    },
    {
      "cell_type": "code",
      "metadata": {
        "colab": {
          "base_uri": "https://localhost:8080/"
        },
        "id": "eb7761c4",
        "outputId": "240de359-a221-4bbe-846a-15a71b140dea"
      },
      "source": [
        "class FibonacciIterator:\n",
        "    def __init__(self, n):\n",
        "        self.n = n\n",
        "        self.count = 0\n",
        "        self.a = 0\n",
        "        self.b = 1\n",
        "\n",
        "    def __iter__(self):\n",
        "        return self\n",
        "\n",
        "    def __next__(self):\n",
        "        if self.count < self.n:\n",
        "            if self.count == 0:\n",
        "                self.count += 1\n",
        "                return self.a\n",
        "            elif self.count == 1:\n",
        "                self.count += 1\n",
        "                return self.b\n",
        "            else:\n",
        "                fib = self.a + self.b\n",
        "                self.a = self.b\n",
        "                self.b = fib\n",
        "                self.count += 1\n",
        "                return fib\n",
        "        else:\n",
        "            raise StopIteration\n",
        "\n",
        "fib_iterator = FibonacciIterator(10)\n",
        "for number in fib_iterator:\n",
        "    print(number)"
      ],
      "execution_count": 34,
      "outputs": [
        {
          "output_type": "stream",
          "name": "stdout",
          "text": [
            "0\n",
            "1\n",
            "1\n",
            "2\n",
            "3\n",
            "5\n",
            "8\n",
            "13\n",
            "21\n",
            "34\n"
          ]
        }
      ]
    },
    {
      "cell_type": "code",
      "source": [
        "# Write a generator function in Python that yields the powers of 2 up to a given exponent.\n",
        "\n",
        "def powers_of_2(max_exponent):\n",
        "    for exponent in range(max_exponent + 1):\n",
        "        yield 2 ** exponent\n",
        "\n",
        "for power in powers_of_2(5):\n",
        "    print(power, end=' ')\n"
      ],
      "metadata": {
        "colab": {
          "base_uri": "https://localhost:8080/"
        },
        "id": "GxWODnJ81bs5",
        "outputId": "87fe4400-cda8-4956-9979-1f93b5effb09"
      },
      "execution_count": 35,
      "outputs": [
        {
          "output_type": "stream",
          "name": "stdout",
          "text": [
            "1 2 4 8 16 32 "
          ]
        }
      ]
    },
    {
      "cell_type": "code",
      "source": [
        " # Implement a generator function that reads a file line by line and yields each line as a string.\n",
        "\n",
        "\n",
        "names = [\"gaurav\", \"akshay\", \"rahul\", \"manish\", \"atul\", \"nishant\"]\n",
        "roll_numbers = [1, 2, 3, 4, 5, 6]\n",
        "\n",
        "filename = 'names_roll_numbers.txt'\n",
        "\n",
        "with open(filename, 'w') as file:\n",
        "    for name, roll in zip(names, roll_numbers):\n",
        "        file.write(f\"{name} {roll}\\n\")\n",
        "\n",
        "def read_file_line_by_line(file_path):\n",
        "    with open(file_path, 'r') as file:\n",
        "        for line in file:\n",
        "            yield line.rstrip('\\n')\n",
        "for line in read_file_line_by_line(filename):\n",
        "    print(line)\n"
      ],
      "metadata": {
        "colab": {
          "base_uri": "https://localhost:8080/"
        },
        "id": "Z4fyq-3W1sqi",
        "outputId": "a48fcbbd-350b-4180-e40a-7519a61b881d"
      },
      "execution_count": 43,
      "outputs": [
        {
          "output_type": "stream",
          "name": "stdout",
          "text": [
            "gaurav 1\n",
            "akshay 2\n",
            "rahul 3\n",
            "manish 4\n",
            "atul 5\n",
            "nishant 6\n"
          ]
        }
      ]
    },
    {
      "cell_type": "code",
      "source": [
        "#  Use a lambda function in Python to sort a list of tuples based on the second element of each tuple.\n",
        "\n",
        "# Sample list of tuples\n",
        "tuples_list = [(1, 'gaurav'), (2, 'akshay'), (3, 'rahul'), (4, 'manish')]\n",
        "\n",
        "sorted_list = sorted(tuples_list, key=lambda x: x[1])\n",
        "\n",
        "print(sorted_list)\n"
      ],
      "metadata": {
        "colab": {
          "base_uri": "https://localhost:8080/"
        },
        "id": "CqDFnbLv4rRT",
        "outputId": "f0809ca2-304d-4e74-c526-97112677b0c9"
      },
      "execution_count": 44,
      "outputs": [
        {
          "output_type": "stream",
          "name": "stdout",
          "text": [
            "[(2, 'akshay'), (1, 'gaurav'), (4, 'manish'), (3, 'rahul')]\n"
          ]
        }
      ]
    },
    {
      "cell_type": "code",
      "source": [
        "# 9. Write a Python program that uses `map()` to convert a list of temperatures from Celsius to Fahrenheit.\n",
        "\n",
        "def celsius_to_fahrenheit(c):\n",
        "    return (c * 9/5) + 32\n",
        "\n",
        "celsius_temps = [97, 98, 101, 102, 103, 104]\n",
        "\n",
        "fahrenheit_temps = list(map(celsius_to_fahrenheit, celsius_temps))\n",
        "\n",
        "print(fahrenheit_temps)\n"
      ],
      "metadata": {
        "colab": {
          "base_uri": "https://localhost:8080/"
        },
        "id": "x0CQjgd15PhV",
        "outputId": "f41dc413-e043-4b44-8e98-375178fb6320"
      },
      "execution_count": 46,
      "outputs": [
        {
          "output_type": "stream",
          "name": "stdout",
          "text": [
            "[206.6, 208.4, 213.8, 215.6, 217.4, 219.2]\n"
          ]
        }
      ]
    },
    {
      "cell_type": "code",
      "metadata": {
        "colab": {
          "base_uri": "https://localhost:8080/"
        },
        "id": "51aa9fe3",
        "outputId": "2156a35b-3aed-470b-98d5-c2248a5be975"
      },
      "source": [
        "# Create a Python program that uses `filter()` to remove all the vowels from a given string.\n",
        "\n",
        "def is_not_vowel(char):\n",
        "    return char.lower() not in 'aeiou'\n",
        "\n",
        "input_string = \"Physics wallah is best coaching institute.\"\n",
        "filtered_chars = filter(is_not_vowel, input_string)\n",
        "result_string = \"\".join(filtered_chars)\n",
        "\n",
        "print(result_string)\n",
        "\n"
      ],
      "execution_count": 49,
      "outputs": [
        {
          "output_type": "stream",
          "name": "stdout",
          "text": [
            "Physcs wllh s bst cchng nsttt.\n"
          ]
        }
      ]
    },
    {
      "cell_type": "code",
      "source": [
        "# Write a Python program, which returns a list with 2-tuples. Each tuple consists of the order number and the product of the price per item and the quantity. The product should be increased by 10,- € if the value of the order is smaller than 100,00 €.\n",
        "\n",
        "# List of orders: [Order Number, Book Title and Author, Quantity, Price per Item]\n",
        "orders = [\n",
        "    [34587, \"Learning Python, Mark Lutz\", 4, 40.95],\n",
        "    [98762, \"Programming Python, Mark Lutz\", 5, 56.80],\n",
        "    [77226, \"Head First Python, Paul Barry\", 3, 32.95],\n",
        "    [88112, \"Einführung in Python3, Bernd Klein\", 3, 24.99]\n",
        "]\n",
        "\n",
        "result = list(map(\n",
        "    lambda order: (\n",
        "        order[0],\n",
        "        order[2] * order[3] if order[2] * order[3] >= 100 else order[2] * order[3] + 10\n",
        "    ),\n",
        "    orders\n",
        "))\n",
        "\n",
        "print(result)\n"
      ],
      "metadata": {
        "colab": {
          "base_uri": "https://localhost:8080/"
        },
        "id": "AOeJobjU6tWB",
        "outputId": "1231ccad-cba4-4b06-ff87-e2c705db8bd3"
      },
      "execution_count": 55,
      "outputs": [
        {
          "output_type": "stream",
          "name": "stdout",
          "text": [
            "[(34587, 163.8), (98762, 284.0), (77226, 108.85000000000001), (88112, 84.97)]\n"
          ]
        }
      ]
    },
    {
      "cell_type": "code",
      "source": [
        "# Write a Python program using lambda and map.\n",
        "\n",
        "numbers = [1, 2, 3, 4, 5]\n",
        "\n",
        "squared_numbers = list(map(lambda x: x ** 2, numbers))\n",
        "\n",
        "print(squared_numbers)\n"
      ],
      "metadata": {
        "colab": {
          "base_uri": "https://localhost:8080/"
        },
        "id": "wzTPZtM9-fsD",
        "outputId": "ef64b96a-e331-4639-f5d4-c692240dcacd"
      },
      "execution_count": 58,
      "outputs": [
        {
          "output_type": "stream",
          "name": "stdout",
          "text": [
            "[1, 4, 9, 16, 25]\n"
          ]
        }
      ]
    }
  ]
}