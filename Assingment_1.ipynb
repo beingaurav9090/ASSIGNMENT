{
  "nbformat": 4,
  "nbformat_minor": 0,
  "metadata": {
    "colab": {
      "provenance": []
    },
    "kernelspec": {
      "name": "python3",
      "display_name": "Python 3"
    },
    "language_info": {
      "name": "python"
    }
  },
  "cells": [
    {
      "cell_type": "markdown",
      "source": [
        "Assigment 1: Basic of Python"
      ],
      "metadata": {
        "id": "gVmByvhw1bR3"
      }
    },
    {
      "cell_type": "markdown",
      "source": [
        "# 1.What is Python, and why is it popular?\n",
        " - Python is a programming language. It is very popular as it an easy language to learn and execute. It is widely used language by IT professionals due to it's ease and compatibility. It supports other applications with other environment as well. It's versatile and can be used in AI and data science."
      ],
      "metadata": {
        "id": "8Ib3iUWDCUnP"
      }
    },
    {
      "cell_type": "markdown",
      "source": [
        "# 2.What is an interpreter in Python?\n",
        "- Interpreter in key component that processes and execute our Python code. It turns high level scripts into actions the computer. You can access the interpreter directly by typing python in yout terminal, it opens a prompt (>>>) where you can enter commands and see instant result."
      ],
      "metadata": {
        "id": "HdRsWJHwD0eR"
      }
    },
    {
      "cell_type": "markdown",
      "source": [],
      "metadata": {
        "id": "8CCHXCN3FDOG"
      }
    },
    {
      "cell_type": "markdown",
      "source": [
        "# 3.What are pre-defined keywords in Python?\n",
        "- Pre-defined words are special words in with builtin meaning Python that form code syntax of language. These are case sensitive (mostly lowercase) except Boolean values. These can't be used as variable or function names."
      ],
      "metadata": {
        "id": "XHaGAJo7Forw"
      }
    },
    {
      "cell_type": "markdown",
      "source": [
        "# 4.Can keywords used be as variable names in Python?\n",
        "- No we can't use keywords as variable name. Keywords have built-in meaning which cannot be changed. Whereas variable can be any name which can also be changed."
      ],
      "metadata": {
        "id": "NAmNjbYuGmQo"
      }
    },
    {
      "cell_type": "markdown",
      "source": [],
      "metadata": {
        "id": "TmOzl_1NHkcn"
      }
    },
    {
      "cell_type": "markdown",
      "source": [],
      "metadata": {
        "id": "akLwUqS8HieC"
      }
    },
    {
      "cell_type": "markdown",
      "source": [
        "# 5.What is mutability in Python\n",
        "- Mutable in Python means changeable or object which can be modified after it's creation. So those objects which can be modified or edit after it's creation define it's mutability."
      ],
      "metadata": {
        "id": "hCBA6bChHoay"
      }
    },
    {
      "cell_type": "markdown",
      "source": [],
      "metadata": {
        "id": "E1n3TmC7IUf8"
      }
    },
    {
      "cell_type": "markdown",
      "source": [
        "# 6.Why are list mutable, but tuples are immutable?\n",
        "- This is basic nature of list (mutable) object that it can be modified or changed after it's creation but tuple is immutable in nature so we can not make any changes after creating it."
      ],
      "metadata": {
        "id": "2IfkA9LtIiDo"
      }
    },
    {
      "cell_type": "markdown",
      "source": [],
      "metadata": {
        "id": "43lZyJLyI-rE"
      }
    },
    {
      "cell_type": "markdown",
      "source": [
        "# 7.What is difference between \"==\" and \"is\" operator in Python?\n",
        "- \"==\" this operator is used to check the value of both objects are same or not. This will give the result in true/false after checking if both objects are same or not.\n",
        "\"is\" operator is used to allocate same value to both objects. It will print the same value allocated to both objects."
      ],
      "metadata": {
        "id": "U2i4TIkMJHUL"
      }
    },
    {
      "cell_type": "markdown",
      "source": [
        "# 8.What are logical operators in Python?\n",
        "- Below are the Logical operators in Python.\n",
        "\n",
        "- \"and\" operator:\n",
        "The 'and' operator returns True if both conditions on its left and right sides are True.\n",
        "\n",
        "\n",
        "\n",
        "- \"or\" operator:\n",
        "The 'or' operator returns True if at least one of the conditions on its left or right sides is True.It returns False only if both sides are False.\n",
        "\n",
        "\n",
        "- \"not\" operator:\n",
        "The 'not' operator works inversely so of the condition is true it returns false and will return True if condition is false.\n"
      ],
      "metadata": {
        "id": "kwvwVarPKmq8"
      }
    },
    {
      "cell_type": "markdown",
      "source": [
        "# 9.What is typecasting in Python?\n",
        "- Typecasting in Python is converting variable datat type's into another to perform specific operations or ensure compatibility. Python handles this in two ways: Implicit (Automatic) and Explicit (Manual) making it flexible for arithmetic and string commands. In Implicit typecasting it does without intervention like converting the data type into string/ float/ int when we enter the data. In Exmplicit method we have to manually change the type of data for better arithmetic results."
      ],
      "metadata": {
        "id": "2LOmP7eIMo3w"
      }
    },
    {
      "cell_type": "markdown",
      "source": [
        "# 10.Difference between Implicit and Explicit typecasting ?\n",
        " ## Implicit typecasting\n",
        "- Done automatically by the computer without programmer instruction.\n",
        "- No special syntax required.\n",
        "- No risk of data loss.\n",
        "- Convenient and reduces the chance of errors.\n",
        "\n",
        "## Explicit typecasting\n",
        "- Done manually by programmer\n",
        "- Required when converting larger data type into small data type.\n",
        "- May involve loss of data.\n",
        "- Gives programmer more control and clarity."
      ],
      "metadata": {
        "id": "IZgdthfWPFtJ"
      }
    },
    {
      "cell_type": "markdown",
      "source": [
        "# 11. What is the purpose of conditional statements in Python?\n",
        "- Conditional statements guide the program to make decisions and execute different code paths depending on the situation presented by the input or data being processed.\n",
        "The simplest form is 'if' statement which runs code if the statement is true.\n",
        "'If-Else' statement allow executing one bloclk if the condition is  true, and another if it is false.\n",
        "'If-ELif-Else' chain lets you check mutltiple conditions in sequence"
      ],
      "metadata": {
        "id": "L5WcptA5ttl6"
      }
    },
    {
      "cell_type": "markdown",
      "source": [
        "# 12. How does Elif statement work?\n",
        "#- Working of Elif statement.\n",
        "- After the if condition is evaluated and found False, python checks the elif condition.\n",
        "- If the elif condition is true, the block of code inside the elif runs.\n",
        "- If the elif condition is false, python moves to next elif (if any) or the else block if provided.\n",
        "- If none of the if and elif conditions are true and there is an else block, it will run the else block."
      ],
      "metadata": {
        "id": "yVlqqTqzv1ML"
      }
    },
    {
      "cell_type": "markdown",
      "source": [],
      "metadata": {
        "id": "fRFXB4yXxAg4"
      }
    },
    {
      "cell_type": "markdown",
      "source": [
        "# 13.What is the difference between for and while loops?\n",
        "#- For loop\n",
        "- Used when you know the number of iterations in advance.\n",
        "- Iterates over a sequence like list, tuple, range, string.\n",
        "- Commonly used for definite iteration.\n",
        "- Syntax is compact, with loop variable automatically updated.\n",
        "\n",
        "#- While loop\n",
        "- Used when you don't know the number of iterations.\n",
        "- Runs as long as the condition is true.\n",
        "- Commonly used for indefinite iteration.\n",
        "- Loop variable must be manually initialized and updated inside the loop."
      ],
      "metadata": {
        "id": "k7z5rOTwyJtx"
      }
    },
    {
      "cell_type": "markdown",
      "source": [
        "# 13.Describe a scenario where a while loop is more suitable than a for loop.\n",
        "- Let's suppose we need to make program for login with password. To login we need to make a program that will ask to user to enter password until he matches the correct password. Below is the program for it.\n",
        "\n"
      ],
      "metadata": {
        "id": "e0Xtp-DIyd7y"
      }
    },
    {
      "cell_type": "code",
      "source": [
        "correct_password=\"123\"\n",
        "user_input=\"\"\n",
        "while user_input != correct_password:\n",
        "    user_input=input(\"Please input your password:\")\n",
        "    print (\"Password accepted\")"
      ],
      "metadata": {
        "colab": {
          "base_uri": "https://localhost:8080/"
        },
        "id": "BfUXquRKBPe_",
        "outputId": "36648ecc-ae07-4791-b280-3024631f2fe9"
      },
      "execution_count": 4,
      "outputs": [
        {
          "output_type": "stream",
          "name": "stdout",
          "text": [
            "Please input your password:123\n",
            "Password accepted\n"
          ]
        }
      ]
    },
    {
      "cell_type": "markdown",
      "source": [
        "# PRACTICAL"
      ],
      "metadata": {
        "id": "1kkEaKaiDaI9"
      }
    },
    {
      "cell_type": "code",
      "source": [
        "# Write a Python program to print \"Hello, World!\"\n",
        "a=\"Hello, World!\"\n",
        "print(a)"
      ],
      "metadata": {
        "colab": {
          "base_uri": "https://localhost:8080/"
        },
        "id": "dVeVoKiDDejP",
        "outputId": "10d919a1-a703-4710-d046-7b7ca70313d8"
      },
      "execution_count": 7,
      "outputs": [
        {
          "output_type": "stream",
          "name": "stdout",
          "text": [
            "Hello, World!\n"
          ]
        }
      ]
    },
    {
      "cell_type": "code",
      "source": [
        "# Write a python program that displays your name and age.\n",
        "name=\"Gaurav Gupta\"\n",
        "age=\"30\"\n",
        "print(f\"My name is {name} and I am {age} years old.\")\n"
      ],
      "metadata": {
        "colab": {
          "base_uri": "https://localhost:8080/"
        },
        "id": "guMj84dPEC-H",
        "outputId": "b6c07bd2-7dab-4429-f087-9c7317c5ac26"
      },
      "execution_count": 11,
      "outputs": [
        {
          "output_type": "stream",
          "name": "stdout",
          "text": [
            "My name is Gaurav Gupta and I am 30 years old.\n"
          ]
        }
      ]
    },
    {
      "cell_type": "code",
      "source": [
        "#Write a code to print all the pre-defined keywords in Python using the keyword library.\n",
        "import keyword\n",
        "print(keyword.kwlist)"
      ],
      "metadata": {
        "colab": {
          "base_uri": "https://localhost:8080/"
        },
        "id": "_Rgj6SpJEYI0",
        "outputId": "5803a912-4145-4157-8f63-8062b764b018"
      },
      "execution_count": 9,
      "outputs": [
        {
          "output_type": "stream",
          "name": "stdout",
          "text": [
            "['False', 'None', 'True', 'and', 'as', 'assert', 'async', 'await', 'break', 'class', 'continue', 'def', 'del', 'elif', 'else', 'except', 'finally', 'for', 'from', 'global', 'if', 'import', 'in', 'is', 'lambda', 'nonlocal', 'not', 'or', 'pass', 'raise', 'return', 'try', 'while', 'with', 'yield']\n"
          ]
        }
      ]
    },
    {
      "cell_type": "code",
      "source": [
        "# Write a program that checks if a given word is python keyword.\n",
        "import keyword\n",
        "word=input(\"Enter the word\")\n",
        "list_keywords=keyword.kwlist\n",
        "if word in list_keywords:\n",
        "  print(\"It is a Keyword\")\n",
        "else:\n",
        "  print(\"It is not a keyword\")"
      ],
      "metadata": {
        "colab": {
          "base_uri": "https://localhost:8080/"
        },
        "id": "29Qa3BYdFs-4",
        "outputId": "bdfc60c0-1675-48a0-e797-71bbf7a29775"
      },
      "execution_count": 13,
      "outputs": [
        {
          "output_type": "stream",
          "name": "stdout",
          "text": [
            "Enter the wordin\n",
            "It is a Keyword\n"
          ]
        }
      ]
    },
    {
      "cell_type": "code",
      "source": [
        "# Create a list and tuple in Python, and demonstrate how attempting to change an element works differently for each.\n",
        "my_list=[\"apple\", \"mango\",\"banana\"]\n",
        "print(\"Original list:\", my_list)\n",
        "my_list.append(\"grapes\")\n",
        "print(\"List after append:\", my_list)\n",
        "\n",
        "my_tuple=(\"apple\", \"mango\",\"banana\")\n",
        "print(\"\\nOriginal tuple:\", my_tuple)\n",
        "try:\n",
        "  my_tuple[0] = \"grapes\"\n",
        "except TypeError as e:\n",
        "  print(\"Attempting to change a tuple element resulted in an error:\", e)"
      ],
      "metadata": {
        "colab": {
          "base_uri": "https://localhost:8080/"
        },
        "id": "TJQGeAtBGU0d",
        "outputId": "d45812a8-984d-4923-83e5-07944d23db3e"
      },
      "execution_count": 18,
      "outputs": [
        {
          "output_type": "stream",
          "name": "stdout",
          "text": [
            "Original list: ['apple', 'mango', 'banana']\n",
            "List after append: ['apple', 'mango', 'banana', 'grapes']\n",
            "\n",
            "Original tuple: ('apple', 'mango', 'banana')\n",
            "Attempting to change a tuple element resulted in an error: 'tuple' object does not support item assignment\n"
          ]
        }
      ]
    },
    {
      "cell_type": "code",
      "source": [
        "# Write a function to demonstrate the behaviour of mutable and immutable arguments.\n",
        "\n",
        "#mutable (list)\n",
        "my_list=[\"1\",\"2\",\"3\"]\n",
        "print(\"Original list:\", my_list)\n",
        "my_list[2]=5\n",
        "print(\"List after change:\", my_list)\n",
        "\n",
        "#immutable (tuple)\n",
        "my_tuple=(\"7\",\"8\",\"9\")\n",
        "print(\"\\nOriginal tuple:\", my_tuple)\n",
        "my_tuple[2]=5\n",
        "print(\"Tuple after change:\", my_tuple)\n",
        "\n"
      ],
      "metadata": {
        "colab": {
          "base_uri": "https://localhost:8080/",
          "height": 280
        },
        "id": "7fqN1VFbIETm",
        "outputId": "49b0fc30-3b76-46de-db59-5e448d333172"
      },
      "execution_count": 26,
      "outputs": [
        {
          "output_type": "stream",
          "name": "stdout",
          "text": [
            "Original list: ['1', '2', '3']\n",
            "List after change: ['1', '2', 5]\n",
            "\n",
            "Original tuple: ('7', '8', '9')\n"
          ]
        },
        {
          "output_type": "error",
          "ename": "TypeError",
          "evalue": "'tuple' object does not support item assignment",
          "traceback": [
            "\u001b[0;31m---------------------------------------------------------------------------\u001b[0m",
            "\u001b[0;31mTypeError\u001b[0m                                 Traceback (most recent call last)",
            "\u001b[0;32m/tmp/ipython-input-2070317228.py\u001b[0m in \u001b[0;36m<cell line: 0>\u001b[0;34m()\u001b[0m\n\u001b[1;32m     10\u001b[0m \u001b[0mmy_tuple\u001b[0m\u001b[0;34m=\u001b[0m\u001b[0;34m(\u001b[0m\u001b[0;34m\"7\"\u001b[0m\u001b[0;34m,\u001b[0m\u001b[0;34m\"8\"\u001b[0m\u001b[0;34m,\u001b[0m\u001b[0;34m\"9\"\u001b[0m\u001b[0;34m)\u001b[0m\u001b[0;34m\u001b[0m\u001b[0;34m\u001b[0m\u001b[0m\n\u001b[1;32m     11\u001b[0m \u001b[0mprint\u001b[0m\u001b[0;34m(\u001b[0m\u001b[0;34m\"\\nOriginal tuple:\"\u001b[0m\u001b[0;34m,\u001b[0m \u001b[0mmy_tuple\u001b[0m\u001b[0;34m)\u001b[0m\u001b[0;34m\u001b[0m\u001b[0;34m\u001b[0m\u001b[0m\n\u001b[0;32m---> 12\u001b[0;31m \u001b[0mmy_tuple\u001b[0m\u001b[0;34m[\u001b[0m\u001b[0;36m2\u001b[0m\u001b[0;34m]\u001b[0m\u001b[0;34m=\u001b[0m\u001b[0;36m5\u001b[0m\u001b[0;34m\u001b[0m\u001b[0;34m\u001b[0m\u001b[0m\n\u001b[0m\u001b[1;32m     13\u001b[0m \u001b[0mprint\u001b[0m\u001b[0;34m(\u001b[0m\u001b[0;34m\"Tuple after change:\"\u001b[0m\u001b[0;34m,\u001b[0m \u001b[0mmy_tuple\u001b[0m\u001b[0;34m)\u001b[0m\u001b[0;34m\u001b[0m\u001b[0;34m\u001b[0m\u001b[0m\n\u001b[1;32m     14\u001b[0m \u001b[0;34m\u001b[0m\u001b[0m\n",
            "\u001b[0;31mTypeError\u001b[0m: 'tuple' object does not support item assignment"
          ]
        }
      ]
    },
    {
      "cell_type": "code",
      "source": [
        "# Write a program that performs basic arithmetic operations on two user input numbers.\n",
        "num1=int(input(\"Enter the first number:\"))\n",
        "num2=int(input(\"Enter the second number:\"))\n",
        "print(f\"Addition of {num1} and {num2} is {num1+num2}\")\n",
        "print(f\"Subtraction of {num1} and {num2} is {num1-num2}\")\n",
        "print(f\"Multiplication of {num1} and {num2} is {num1*num2}\")\n",
        "print(f\"Division of {num1} and {num2} is {num1/num2}\")\n"
      ],
      "metadata": {
        "colab": {
          "base_uri": "https://localhost:8080/"
        },
        "id": "bU-VydnOK6I_",
        "outputId": "6efec1ce-1e77-408c-facd-213599047f20"
      },
      "execution_count": 27,
      "outputs": [
        {
          "output_type": "stream",
          "name": "stdout",
          "text": [
            "Enter the first number:5\n",
            "Enter the second number:10\n",
            "Addition of 5 and 10 is 15\n",
            "Subtraction of 5 and 10 is -5\n",
            "Multiplication of 5 and 10 is 50\n",
            "Division of 5 and 10 is 0.5\n"
          ]
        }
      ]
    },
    {
      "cell_type": "code",
      "metadata": {
        "colab": {
          "base_uri": "https://localhost:8080/"
        },
        "id": "f474f951",
        "outputId": "3c589002-de5d-486e-e627-175ff5d872d1"
      },
      "source": [
        "# # Write a program to demonstrate the use of logical operators.\n",
        "# AND OPERATOR\n",
        "age = 25\n",
        "has_license = True\n",
        "\n",
        "if age >= 18 and has_license:\n",
        "  print(\"You are eligible to drive.\")\n",
        "else:\n",
        "  print(\"You are not eligible to drive.\")\n",
        "\n",
        "age = 16\n",
        "if age >= 18 and has_license:\n",
        "  print(\"You are eligible to drive.\")\n",
        "else:\n",
        "  print(\"You are not eligible to drive.\")\n"
      ],
      "execution_count": 33,
      "outputs": [
        {
          "output_type": "stream",
          "name": "stdout",
          "text": [
            "You are eligible to drive.\n",
            "You are not eligible to drive.\n"
          ]
        }
      ]
    },
    {
      "cell_type": "code",
      "metadata": {
        "colab": {
          "base_uri": "https://localhost:8080/"
        },
        "id": "f070583c",
        "outputId": "25c70b1e-2099-4c2d-91d8-cfe80a0f90e4"
      },
      "source": [
        "# 'or' operator\n",
        "\n",
        "score = 85\n",
        "attendance = 90\n",
        "\n",
        "if score >= 70 or attendance >= 80:\n",
        "  print(\"You pass the course.\")\n",
        "else:\n",
        "  print(\"You do not pass the course.\")\n",
        "\n",
        "score = 65\n",
        "attendance = 75\n",
        "\n",
        "if score >= 70 or attendance >= 80:\n",
        "  print(\"You pass the course.\")\n",
        "else:\n",
        "  print(\"You do not pass the course.\")"
      ],
      "execution_count": 36,
      "outputs": [
        {
          "output_type": "stream",
          "name": "stdout",
          "text": [
            "You pass the course.\n",
            "You do not pass the course.\n"
          ]
        }
      ]
    },
    {
      "cell_type": "code",
      "metadata": {
        "colab": {
          "base_uri": "https://localhost:8080/"
        },
        "id": "804b4109",
        "outputId": "bca08068-f50d-458d-dc0a-40c4e3d19157"
      },
      "source": [
        "# 'not' operator\n",
        "\n",
        "# Negating boolean values\n",
        "print(\"not True:\", not True)\n",
        "print(\"not False:\", not False)\n",
        "\n",
        "# Using 'not' with expressions\n",
        "is_sunny = False\n",
        "print(\"not is_sunny:\", not is_sunny)\n",
        "\n",
        "temperature = 28\n",
        "print(f\"not (temperature > 30):\", not (temperature > 30))\n"
      ],
      "execution_count": 37,
      "outputs": [
        {
          "output_type": "stream",
          "name": "stdout",
          "text": [
            "not True: False\n",
            "not False: True\n",
            "not is_sunny: True\n",
            "not (temperature > 30): True\n"
          ]
        }
      ]
    },
    {
      "cell_type": "code",
      "source": [
        "#Write a python program to convert user from string to integer, float, and boolean types.\n",
        "\n",
        "user_input=input(\"Enter the number\")\n",
        "print(\"User_input :\",user_input)\n",
        "if user_input.isdigit():\n",
        "  #String --> integer\n",
        "  print(\"User input in integer:\",int(user_input))\n",
        "  #String --> float\n",
        "  print(\"User input in float:\",float(user_input))\n",
        "  #String --> boolean\n",
        "  print(\"User input in boolean:\",bool(user_input))\n",
        "else:\n",
        "  print(\"Invalid Input , Enter a digit\")\n"
      ],
      "metadata": {
        "colab": {
          "base_uri": "https://localhost:8080/"
        },
        "id": "22_Q_LRRZMi-",
        "outputId": "2d93c093-732a-4b11-d493-f9d0b99c66b1"
      },
      "execution_count": 40,
      "outputs": [
        {
          "output_type": "stream",
          "name": "stdout",
          "text": [
            "Enter the number24\n",
            "User_input : 24\n",
            "User input in integer: 24\n",
            "User input in float: 24.0\n",
            "User input in boolean: True\n"
          ]
        }
      ]
    },
    {
      "cell_type": "code",
      "metadata": {
        "colab": {
          "base_uri": "https://localhost:8080/"
        },
        "id": "3a4382a2",
        "outputId": "401dbf35-c7e4-4310-faf2-7d4ff7efe8db"
      },
      "source": [
        "# Write a code to demonstrate type casting with list elements.\n",
        "data = [\"1\", \"2\", \"3\", \"4.5\", \"5.0\", \"6\"]\n",
        "print(\"Original list:\", data)\n",
        "print(\"Types in original list:\", [type(item) for item in data])\n",
        "\n",
        "# Typecast elements to integers\n",
        "integer_data = [int(item) for item in data if item.isdigit()]\n",
        "print(\"\\nList after typecasting to integers:\", integer_data)\n",
        "\n",
        "\n",
        "# Typecast elements to floats\n",
        "float_data = [float(item) for item in data]\n",
        "print(\"\\nList after typecasting to floats:\", float_data)\n",
        "\n",
        "\n",
        "# Typecast elements back to strings\n",
        "string_data = [str(item) for item in integer_data]\n",
        "print(\"\\nList after typecasting integers back to strings:\", string_data)\n",
        "\n",
        "\n"
      ],
      "execution_count": 44,
      "outputs": [
        {
          "output_type": "stream",
          "name": "stdout",
          "text": [
            "Original list: ['1', '2', '3', '4.5', '5.0', '6']\n",
            "Types in original list: [<class 'str'>, <class 'str'>, <class 'str'>, <class 'str'>, <class 'str'>, <class 'str'>]\n",
            "\n",
            "List after typecasting to integers: [1, 2, 3, 6]\n",
            "\n",
            "List after typecasting to floats: [1.0, 2.0, 3.0, 4.5, 5.0, 6.0]\n",
            "\n",
            "List after typecasting integers back to strings: ['1', '2', '3', '6']\n"
          ]
        }
      ]
    },
    {
      "cell_type": "code",
      "source": [
        "# Write a program to check if a number is positive, negative or zero.\n",
        "num = float(input(\"Enter a number: \"))\n",
        "if num > 0:\n",
        "    print(\"The number is positive.\")\n",
        "elif num < 0:\n",
        "    print(\"The number is negative.\")\n",
        "else:\n",
        "    print(\"The number is zero.\")\n"
      ],
      "metadata": {
        "colab": {
          "base_uri": "https://localhost:8080/"
        },
        "id": "VcDGewvlcrTm",
        "outputId": "dc166ed6-4f6b-4498-d198-bce46bbca193"
      },
      "execution_count": 49,
      "outputs": [
        {
          "output_type": "stream",
          "name": "stdout",
          "text": [
            "Enter a number: 0\n",
            "The number is zero.\n"
          ]
        }
      ]
    },
    {
      "cell_type": "code",
      "source": [
        "# Write a for loop to print numbers from 1 to 10.\n",
        "\n",
        "for i in range(1,11):\n",
        "  print(i)"
      ],
      "metadata": {
        "colab": {
          "base_uri": "https://localhost:8080/"
        },
        "id": "bSzaYZLIdOHv",
        "outputId": "1961c7c4-7524-449c-b4d8-c0d42ce8f2c6"
      },
      "execution_count": 50,
      "outputs": [
        {
          "output_type": "stream",
          "name": "stdout",
          "text": [
            "1\n",
            "2\n",
            "3\n",
            "4\n",
            "5\n",
            "6\n",
            "7\n",
            "8\n",
            "9\n",
            "10\n"
          ]
        }
      ]
    },
    {
      "cell_type": "code",
      "source": [
        "# Write a python program to find the sum of all even numbers between 1 and 50.\n",
        "for i in range(1,51):\n",
        "  if i%2==0:\n",
        "    print(i)"
      ],
      "metadata": {
        "id": "maMt43qrdfHU"
      },
      "execution_count": null,
      "outputs": []
    },
    {
      "cell_type": "code",
      "metadata": {
        "colab": {
          "base_uri": "https://localhost:8080/"
        },
        "id": "d63d1898",
        "outputId": "4771d059-9832-4bcd-cbc5-03f95cba85ad"
      },
      "source": [
        "# Write a python program to find the sum of all even numbers between 1 and 50.\n",
        "\n",
        "total_sum = 0\n",
        "for number in range(1, 51):\n",
        "  if number % 2 == 0:\n",
        "    total_sum += number\n",
        "print(f\"The sum of all even numbers between 1 and 50 is: {total_sum}\")"
      ],
      "execution_count": 53,
      "outputs": [
        {
          "output_type": "stream",
          "name": "stdout",
          "text": [
            "The sum of all even numbers between 1 and 50 is: 650\n"
          ]
        }
      ]
    },
    {
      "cell_type": "code",
      "source": [
        "# Write a program to reverse a string using a while loop.\n"
      ],
      "metadata": {
        "id": "GuW8Yf5Repb2"
      },
      "execution_count": null,
      "outputs": []
    },
    {
      "cell_type": "code",
      "metadata": {
        "colab": {
          "base_uri": "https://localhost:8080/"
        },
        "id": "28327298",
        "outputId": "a9075648-8a4b-402f-da76-00b1d6a6d482"
      },
      "source": [
        "# Write a program to reverse a string using a while loop.\n",
        "\n",
        "input_string = input(\"Enter a string to reverse: \")\n",
        "reversed_string = \"\"\n",
        "index = len(input_string) - 1\n",
        "while index >= 0:\n",
        "  reversed_string += input_string[index]\n",
        "  index -= 1\n",
        "print(f\"Original string: {input_string}\")\n",
        "print(f\"Reversed string: {reversed_string}\")"
      ],
      "execution_count": 57,
      "outputs": [
        {
          "output_type": "stream",
          "name": "stdout",
          "text": [
            "Enter a string to reverse: hello\n",
            "Original string: hello\n",
            "Reversed string: olleh\n"
          ]
        }
      ]
    },
    {
      "cell_type": "code",
      "source": [
        "# Write a Python program to calculate the factorial of a number provided by the user using a while loop.\n",
        "\n",
        "number = int(input(\"Enter a non-negative integer: \"))\n",
        "factorial = 1\n",
        "i = 1\n",
        "if number < 0:\n",
        "    print(\"Factorial is not defined for negative numbers.\")\n",
        "\n",
        "elif number == 0:\n",
        "    print(\"The factorial of 0 is 1.\")\n",
        "else:\n",
        "    while i <= number:\n",
        "        factorial *= i\n",
        "        i += 1\n",
        "    print(f\"The factorial of {number} is {factorial}\")\n"
      ],
      "metadata": {
        "colab": {
          "base_uri": "https://localhost:8080/"
        },
        "id": "LcmIGp0hkX79",
        "outputId": "ee7c34da-1cdb-4458-c100-0a2a13e8a9e3"
      },
      "execution_count": 59,
      "outputs": [
        {
          "output_type": "stream",
          "name": "stdout",
          "text": [
            "Enter a non-negative integer: 5\n",
            "The factorial of 5 is 120\n"
          ]
        }
      ]
    }
  ]
}