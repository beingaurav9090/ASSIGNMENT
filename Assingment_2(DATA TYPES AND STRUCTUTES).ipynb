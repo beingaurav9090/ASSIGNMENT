{
  "nbformat": 4,
  "nbformat_minor": 0,
  "metadata": {
    "colab": {
      "provenance": [],
      "authorship_tag": "ABX9TyPKsUhVivVLm3elWQFxMQrT",
      "include_colab_link": true
    },
    "kernelspec": {
      "name": "python3",
      "display_name": "Python 3"
    },
    "language_info": {
      "name": "python"
    }
  },
  "cells": [
    {
      "cell_type": "markdown",
      "metadata": {
        "id": "view-in-github",
        "colab_type": "text"
      },
      "source": [
        "<a href=\"https://colab.research.google.com/github/beingaurav9090/ASSIGNMENT/blob/main/Assingment_2.ipynb\" target=\"_parent\"><img src=\"https://colab.research.google.com/assets/colab-badge.svg\" alt=\"Open In Colab\"/></a>"
      ]
    },
    {
      "cell_type": "markdown",
      "source": [
        "## ASSINGMENT 2:DATA TYPES AND STRUCTUTES"
      ],
      "metadata": {
        "id": "riyseUxRnXdb"
      }
    },
    {
      "cell_type": "markdown",
      "source": [
        "# 1.What are data structures, and why are they important ?\n",
        "- A data structure is just a way to store and organize data in a computer so we can use it efficiently. For example :-\n",
        "\n",
        " - Array – Like a row of boxes, each with a number on it, to store items in order.\n",
        "\n",
        " - Linked List – Like a chain where each link knows the next one.\n",
        "\n",
        " - Stack – Like a stack of plates (last plate added comes out first).\n",
        "\n",
        " - Queue – Like a line of people (first person in line goes first).\n",
        "\n",
        " - Tree – Like a family tree showing parent-child relationships.\n",
        "\n",
        " - Graph – Like a network of cities connected by roads.\n",
        "\n",
        "- Data structures are importasnt as it helps keep the information neat and saves time by sorting and updating data faster. It Enables complex task like social media feeds, search engines, navigation apps and other things rely on on advanced data structure.\n",
        "\n"
      ],
      "metadata": {
        "id": "LV5v1dHVeitS"
      }
    },
    {
      "cell_type": "markdown",
      "source": [
        " # 2.Explain the difference between mutable and immutable data types with examples?\n",
        "\n",
        " - Mutable data types can be changed after they are created.You can modify, add, or remove their contents. Examples for Mutable data types:-\n",
        "\n",
        "  - List: You can add, change, or delete items in a list.\n",
        "\n",
        "  "
      ],
      "metadata": {
        "id": "WC-jsAIDiR-T"
      }
    },
    {
      "cell_type": "code",
      "source": [
        "fruits = [\"apple\", \"banana\"]\n",
        "fruits.append(\"orange\") # Now fruits = [\"apple\", \"banana\", \"orange\"]\n"
      ],
      "metadata": {
        "id": "O9KSCtmwlJ5Q"
      },
      "execution_count": 2,
      "outputs": []
    },
    {
      "cell_type": "markdown",
      "source": [
        "- Dictionary: You can change values or add new keys."
      ],
      "metadata": {
        "id": "IGvY8zSKlZXN"
      }
    },
    {
      "cell_type": "code",
      "source": [
        "student = {\"name\": \"Amit\", \"age\": 18}\n",
        "student[\"age\"] = 19  # Changed age\n"
      ],
      "metadata": {
        "id": "qtEFtlWgldpY"
      },
      "execution_count": null,
      "outputs": []
    },
    {
      "cell_type": "markdown",
      "source": [
        " - Immutable data types cannot be changed once they are created.If you want a different value, you need to make a new object.Examples for Immutable data types:-\n",
        "\n",
        " - String: Cannot be changed after creation."
      ],
      "metadata": {
        "id": "SE3MBNznlgkC"
      }
    },
    {
      "cell_type": "code",
      "source": [
        "name = \"Sara\"\n",
        "name[0] = \"J\"  # Error! You can't change part of a string\n"
      ],
      "metadata": {
        "id": "oYd6lCMplpPF"
      },
      "execution_count": null,
      "outputs": []
    },
    {
      "cell_type": "markdown",
      "source": [
        " - Tuple: Like a list, but you can’t change items."
      ],
      "metadata": {
        "id": "XCOMQiVOlsad"
      }
    },
    {
      "cell_type": "code",
      "source": [
        "numbers = (1, 2, 3)\n",
        "numbers = 5  # Error! Tuples can't be changed\n"
      ],
      "metadata": {
        "id": "1AS1dc2Clwz9"
      },
      "execution_count": null,
      "outputs": []
    },
    {
      "cell_type": "markdown",
      "source": [
        "# 3.What are the main differences between lists and tuples in Python ?\n",
        "\n",
        "Difference bwtween List and tuple\n",
        "\n",
        "- Syntax- List defined using square brackets [] and Tuples defined using parentheses ().\n",
        "\n",
        "- Mutability- List can be changed after creation (add, remove, modify items). Tulpes cannot be changed after creation.\n",
        "\n",
        "- Performance- List are Slower (because of mutability and overhead of dynamic resizing). Tuples are Faster (because immutable objects are more memory-efficient).\n",
        "\n",
        "- Use Case- List can be used when you need a collection of items that might change during program execution. Tuple can be used when you need a fixed collection of items, or want to use it as a key in a dictionary / element of a set.\n",
        "\n",
        "- Hashable- List is not hashable while Tuple is hashable.\n",
        "\n",
        "- Methods Available- For list append(), extend(), remove(), pop(), sort(), reverse(). For Tuple count(), index().\n",
        "\n"
      ],
      "metadata": {
        "id": "YH3sCLE8iU8K"
      }
    },
    {
      "cell_type": "markdown",
      "source": [
        "# 4.Describe how dictionaries store data ?\n",
        "\n",
        "-  A dictionary stores data as key-value pairs (like “name”: “Amit”). It uses a hash table (a special structure) to keep everything organized, so you can quickly find, add, or remove data just by using the key. Keys must be unique and can’t be changed. This makes looking up values in a dictionary very fast."
      ],
      "metadata": {
        "id": "z83HcSdZsAqH"
      }
    },
    {
      "cell_type": "markdown",
      "source": [
        "# 5.Why might you use a set instead of a list in Python ?\n",
        "\n",
        "- We want only unique items: Sets automatically remove duplicates, so each item will appear only once.\n",
        "\n",
        "- We don’t care about order: Sets are unordered, so the position of items doesn’t matter.\n",
        "\n",
        "- We need fast checking: Checking if an item is in a set is much faster than with a list, especially for large collections.\n",
        "\n",
        "- We want to do math-like operations: Sets let you easily do things like unions and intersections (finding common elements)."
      ],
      "metadata": {
        "id": "itYB8ic3s-J0"
      }
    },
    {
      "cell_type": "markdown",
      "source": [
        "# 6.What is a string in Python, and how is it different from a list ?\n",
        "\n",
        "- A string in Python is a sequence of characters—such as letters, numbers, or symbols—enclosed within quotes, like \"hello\" or \"1234\". It is used to represent text. On the other hand, a list in Python is a sequence of elements enclosed within square brackets, for example [1, 2, 3, \"a\"]. Unlike strings, lists can hold elements of any type, such as numbers, other lists, or even strings themselves. Another important difference is that strings are immutable, meaning their contents cannot be changed after creation; if you try to modify a character in a string, Python will show an error. Lists are mutable, so you can add, remove, or change items easily. Also, strings use quotes for their syntax, while lists use square brackets. In summary, strings are best for representing text, and lists are used for storing groups of items of any type that you want to be able to change."
      ],
      "metadata": {
        "id": "zXLRELiPuvDz"
      }
    },
    {
      "cell_type": "markdown",
      "source": [
        "# 7.How do tuples ensure data integrity in Python ?\n",
        "\n",
        "- Tuples ensure data integrity in Python because they are immutable, which means once a tuple is created, its contents cannot be changed. This immutability guarantees that the data inside the tuple remains constant throughout the program, preventing accidental or unwanted modifications. Because tuples can’t be altered after creation, they provide a reliable way to store fixed sets of values, making your data more stable and less prone to bugs. Additionally, this immutability allows tuples to be used as keys in dictionaries and elements in sets, since their values do not change and can be uniquely identified. This makes tuples especially useful for storing configuration settings, fixed data collections, or any information that should remain consistent and secure during the execution of a program."
      ],
      "metadata": {
        "id": "OrVRBivcu3sC"
      }
    },
    {
      "cell_type": "markdown",
      "source": [
        "# 8.What is a hash table, and how does it relate to dictionaries in Python ?\n",
        "\n",
        "- A hash table is a data structure that stores data in key-value pairs and uses a hash function to quickly find the location (index) where the data is stored. The hash function converts the key into an index in an internal array, so when you want to look up a value by its key, the hash table can find it almost instantly without searching through all the data.\n",
        "\n",
        "In Python, dictionaries are implemented using hash tables. When you add a key-value pair to a dictionary, Python hashes the key, uses the hash to find an index in an internal array, and stores the value there. This is why accessing values by keys in dictionaries is very fast. The hash table structure also handles situations where different keys get the same hash (called collisions) to ensure all keys and values are stored properly."
      ],
      "metadata": {
        "id": "dgeDtnY0vPR4"
      }
    },
    {
      "cell_type": "markdown",
      "source": [
        "# 9.Can lists contain different data types in Python ?\n",
        "\n",
        "- Yes, Python lists can easily hold different types of data at the same time. For example, you can put numbers, words, decimals, or even other lists all together in one list. If you write [5, \"apple\", 2.8, True], that’s okay in Python. Lists in Python are designed to be flexible, so you don’t have to worry about all the items being the same type—they can be mixed however you want."
      ],
      "metadata": {
        "id": "cVE6l7hqYdyf"
      }
    },
    {
      "cell_type": "markdown",
      "source": [
        "# 10. Explain why strings are immutable in Python ?\n",
        "\n",
        "- 1.Memory efficiency : Immutability allows Python to reuse identical string objects (string interning), saving memory.\n",
        "\n",
        "- 2.Hash consistency : Strings must stay unchanged so their hash value remains constant when used as dictionary or setkeys.\n",
        "\n",
        "- 3.Thread-safety : Because strings can’t be modified, they can be shared between threads without risk of corruption.\n",
        "\n",
        "- 4.Predictable behavior : Fixed, unchangeable strings prevent accidental changes, making code more reliable.\n",
        "\n",
        "- 5.Performance optimization : Immutable strings can be stored and accessed in a way that speeds up certain operations."
      ],
      "metadata": {
        "id": "QQKb-skka66_"
      }
    },
    {
      "cell_type": "markdown",
      "source": [
        "# 11.What advantages do dictionaries offer over lists for certain tasks ?\n",
        "\n",
        "- Below are the advantages dictionaries have over list in Python.\n",
        "\n",
        ">Faster lookups: Access values by key instantly, much quicker than searching through a list.\n",
        "\n",
        ">Key-based access: Use meaningful keys (like \"name\", \"id\") instead of just numbers to find your data.\n",
        "\n",
        ">No need to search manually: Retrieve values directly by the key—no need to loop through items.\n",
        "\n",
        ">Clear data mapping: Store information as key-value pairs, which is perfect for mapping real-life data like \"student ID → grade\".\n",
        "\n",
        ">Flexible storage: Keys can be any unchanging (immutable) type, and values can be any kind of data.\n",
        "\n",
        ">Better organization: Ideal for storing related pieces of information that need to be labeled"
      ],
      "metadata": {
        "id": "iVXLKQvYbT1_"
      }
    },
    {
      "cell_type": "markdown",
      "source": [
        " # 12.Describe a scenario where using a tuple would be preferable over a list.\n",
        "\n",
        " - A scenario where using a tuple would be preferable over a list in Python is when you have a fixed collection of related data that should not change during the program. For example, when storing the coordinates of a point in 2D space, like (x, y), tuples are perfect because their immutability ensures the values remain constant and cannot be accidentally modified. Tuples are also more memory-efficient and slightly faster than lists, making them ideal for fixed data. Another advantage is that tuples can be used as keys in dictionaries because they are immutable, whereas lists cannot\n",
        "\n",
        " - With a list, you could accidentally change the data.So, tuples are best when you want your data to stay safe from accidental changes, provide better performance, and possibly be used as dictionary keys."
      ],
      "metadata": {
        "id": "8wGUn-jybyfM"
      }
    },
    {
      "cell_type": "code",
      "source": [
        "# Using a tuple for fixed coordinates\n",
        "point = (10, 20)\n",
        "\n",
        "# Accessing values is allowed\n",
        "print(\"X coordinate:\", point[0])\n",
        "print(\"Y coordinate:\", point[1])\n",
        "\n",
        "# Using a list for coordinates\n",
        "point_list = [10, 20]\n",
        "\n",
        "# Changing the x coordinate is allowed\n",
        "point_list = 15\n",
        "print(\"Updated point:\", point_list)\n",
        "\n"
      ],
      "metadata": {
        "id": "MVWkqTgPdNb0"
      },
      "execution_count": null,
      "outputs": []
    },
    {
      "cell_type": "markdown",
      "source": [
        "# 13. How do sets handle duplicate values in Python ?\n",
        "\n",
        "- In Python, sets automatically remove duplicate values because they are designed to store only unique elements. When you try to add a duplicate to a set, Python checks the element’s hash value and sees that it already exists, so it ignores the duplicate instead of storing it again."
      ],
      "metadata": {
        "id": "FeMnPaHIWauw"
      }
    },
    {
      "cell_type": "markdown",
      "source": [
        "# 14.How does the “in” keyword work differently for lists and dictionaries ?\n",
        "- The “in” keyword works differently for lists and dictionaries in Python because they check for membership in different ways:\n",
        "\n",
        ">>For lists:\n",
        "The “in” keyword checks if a value exists anywhere in the list by scanning through all elements one by one. This means it performs a linear search, which can take longer if the list is large because it may have to check many items to find a match.\n",
        "\n",
        ">>For dictionaries:\n",
        "The “in” keyword checks if a given item is a key in the dictionary. Dictionaries use a hash table internally, so this lookup is very fast (almost instant). The search does not go through every key but directly accesses the location using the key’s hash value."
      ],
      "metadata": {
        "id": "3_c-oDWHXIsf"
      }
    },
    {
      "cell_type": "markdown",
      "source": [
        "# 14.Can you modify the elements of a tuple? Explain why or why not.\n",
        "- You cannot modify the elements of a tuple in Python because tuples are immutable. This means once a tuple is created, its elements cannot be changed, added, or removed. If you try to change an element, Python will give you an error."
      ],
      "metadata": {
        "id": "vW-Hefy7XmrD"
      }
    },
    {
      "cell_type": "markdown",
      "source": [
        "# 15. What is a nested dictionary, and give an example of its use case ?\n",
        "\n",
        "- A nested dictionary in Python is a dictionary that contains another dictionary (or dictionaries) as its values. This allows you to organize complex or grouped data in a hierarchical way, making it easier to represent related information inside one main dictionary.\n",
        "\n",
        "- Example use case:\n",
        "Imagine you want to store employee details by department in a company. You can create a nested dictionary where each department is a key in the outer dictionary, and its value is another dictionary containing employee IDs and their names."
      ],
      "metadata": {
        "id": "UQB-M-80X2KD"
      }
    },
    {
      "cell_type": "code",
      "source": [
        "company_org_chart = {\n",
        "    \"Marketing\": {\n",
        "        \"ID234\": \"Jane Smith\"\n",
        "    },\n",
        "    \"Sales\": {\n",
        "        \"ID123\": \"Bob Johnson\",\n",
        "        \"ID122\": \"David Lee\"\n",
        "    },\n",
        "    \"Engineering\": {\n",
        "        \"ID303\": \"Radhika Potlapally\",\n",
        "        \"ID321\": \"Maryam Samimi\"\n",
        "    }\n",
        "}\n",
        "\n",
        "# Accessing nested dictionary items:\n",
        "print(company_org_chart[\"Sales\"][\"ID122\"])  # Output: David Lee\n",
        "print(company_org_chart[\"Engineering\"][\"ID321\"])  # Output: Maryam Samimi\n"
      ],
      "metadata": {
        "id": "odKkYhslYvy4"
      },
      "execution_count": null,
      "outputs": []
    },
    {
      "cell_type": "markdown",
      "source": [
        "# 17.Describe the time complexity of accessing elements in a dictionary ?\n",
        "\n",
        "- Accessing an element in a Python dictionary is very fast because it works like a smart index. When you look for a value using its key, Python quickly finds where that value is stored without checking every item. This means it usually takes the same short amount of time, no matter how big the dictionary is (called O(1) time). Sometimes, if there are special cases where keys get mixed up in the storage, it might take longer, but that rarely happens. So, using dictionaries is a quick way to find data by its key."
      ],
      "metadata": {
        "id": "1wY1JUvAY7SK"
      }
    },
    {
      "cell_type": "markdown",
      "source": [
        "# 18. In what situations are lists preferred over dictionaries ?\n",
        "\n",
        "- Lists are preferred over dictionaries in Python in the following situations:\n",
        "\n",
        ">When order matters: Lists maintain the order of elements, so if you need to keep items in a specific sequence or order, lists are the better choice.\n",
        "\n",
        ">When you need duplicate values: Lists allow duplicate items, which is useful if you want to store repeated elements. Dictionaries require unique keys, so duplicates are not allowed for keys.\n",
        "\n",
        ">When you access elements by position: If you want to retrieve items based on their position or index (like getting the first, second, or last item), lists provide direct access by index, while dictionaries use keys.\n",
        "\n",
        ">When you have simple, ordered collections: For simple collections of items where you just need to store values without associating unique keys, lists are easier and more natural to use.\n",
        "\n",
        ">When you perform ordered operations: Tasks like sorting, reversing, or sequential iteration are more straightforward with lists since they maintain order naturally.\n",
        "\n",
        "- In summary, use lists when you need an ordered collection with possible duplicates and want to access elements by position. Use dictionaries when you need fast access by unique keys and care about associating labels with values."
      ],
      "metadata": {
        "id": "91itmLCxZzap"
      }
    },
    {
      "cell_type": "markdown",
      "source": [
        "# 18.Why are dictionaries considered unordered, and how does that affect data retrieval ?\n",
        "\n",
        "- Dictionaries used to be called unordered because they don’t keep items in the order you add them. They store data based on a special way (called hashing) that doesn’t care about order. So, when you get items from a dictionary, they might come out in any order. This affected data retrieval in a few ways:\n",
        "\n",
        ">If you wanted to print or loop through the dictionary, you wouldn’t always get items in the same order they were added.\n",
        "\n",
        ">You couldn’t pick out the “first” or “last” item by position, because dictionaries don’t use indexes the way lists do.\n",
        "\n",
        ">If your code depended on a specific order for the items, you had to sort them before use."
      ],
      "metadata": {
        "id": "wxXDoqg7aPON"
      }
    },
    {
      "cell_type": "markdown",
      "source": [
        "# 20.Explain the difference between a list and a dictionary in terms of data retrieval.\n",
        "\n",
        "- Lists store items in a specific order and you access elements by their position (index). Retrieving an element requires knowing its index, and accessing by index is fast (O(1) time). However, if you want to find an element by its value, you may need to search through the list, which takes longer (O(n) time).\n",
        "\n",
        "- Dictionaries store data as key-value pairs without relying on order. You access elements by unique keys rather than positions. Lookups by key are very fast (average O(1) time) because dictionaries use a hash table internally. You don’t need to search through all items to retrieve a value; instead, you use the key directly."
      ],
      "metadata": {
        "id": "mf9mOrkIbZ91"
      }
    },
    {
      "cell_type": "code",
      "source": [
        "# Q1. Create a string with your name and print it\n",
        "name = \"Gaurav Gupta\"\n",
        "print(\"Hello, my name is\",name)"
      ],
      "metadata": {
        "colab": {
          "base_uri": "https://localhost:8080/"
        },
        "id": "H_fYJPNfbw3b",
        "outputId": "5e8ca434-3947-46a4-bab2-bb85a1c4a750"
      },
      "execution_count": 1,
      "outputs": [
        {
          "output_type": "stream",
          "name": "stdout",
          "text": [
            "Hello, my name is Gaurav Gupta\n"
          ]
        }
      ]
    },
    {
      "cell_type": "code",
      "source": [
        "# Q2. Find the length of the string \"Hello World\"\n",
        "message = \"Hello World\"\n",
        "print(\"message length:\", len(message))"
      ],
      "metadata": {
        "colab": {
          "base_uri": "https://localhost:8080/"
        },
        "id": "Ioh9dD9AcgNy",
        "outputId": "18f55af0-9e03-4cb7-aa4a-7e521b2b244f"
      },
      "execution_count": 2,
      "outputs": [
        {
          "output_type": "stream",
          "name": "stdout",
          "text": [
            "message length: 11\n"
          ]
        }
      ]
    },
    {
      "cell_type": "code",
      "source": [
        "# Q3. Write a code to slice the first 3 characters from the string \"Python Programming\"\n",
        "a = \"Python Programming\"\n",
        "b = a[:3]\n",
        "print(\"First 3 char:\", b)"
      ],
      "metadata": {
        "colab": {
          "base_uri": "https://localhost:8080/"
        },
        "id": "y3_VUq_Hco3a",
        "outputId": "9bbc64d4-e225-4948-d177-4568f4efa2af"
      },
      "execution_count": 4,
      "outputs": [
        {
          "output_type": "stream",
          "name": "stdout",
          "text": [
            "First 3 char: Pyt\n"
          ]
        }
      ]
    },
    {
      "cell_type": "code",
      "source": [
        "# Q4. Write a code to convert the string \"hello\" to uppercase\n",
        "x = \"hello\"\n",
        "print(\"uppercase in\", x.upper())"
      ],
      "metadata": {
        "colab": {
          "base_uri": "https://localhost:8080/"
        },
        "id": "idRX5rsudUtm",
        "outputId": "f7b247be-6941-40c1-a929-fbd6358822a4"
      },
      "execution_count": 7,
      "outputs": [
        {
          "output_type": "stream",
          "name": "stdout",
          "text": [
            "uppercase in HELLO\n"
          ]
        }
      ]
    },
    {
      "cell_type": "code",
      "source": [
        "# Q5. Write a code to replace the word \"apple\" with \"orange\" in the string \"I like apple\"\n",
        "sentence = \"I like apple\"\n",
        "new_sentence = sentence.replace(\"apple\", \"orange\")\n",
        "print(\"My Fav Fruit is:\", sentence)\n",
        "print(\"My Fav Fruit is:\", new_sentence)\n"
      ],
      "metadata": {
        "colab": {
          "base_uri": "https://localhost:8080/"
        },
        "id": "Z0pHhvMBeEHW",
        "outputId": "7ef94dd7-0ab5-4988-ec3d-07a9695b3c4a"
      },
      "execution_count": 9,
      "outputs": [
        {
          "output_type": "stream",
          "name": "stdout",
          "text": [
            "My Fav Fruit is: I like apple\n",
            "My Fav Fruit is: I like orange\n"
          ]
        }
      ]
    },
    {
      "cell_type": "code",
      "source": [
        "# Q6. Write a code to create a list with numbers 1 to 5 and print it.\n",
        "num_list = [1, 2, 3, 4, 5]\n",
        "print(num_list)"
      ],
      "metadata": {
        "colab": {
          "base_uri": "https://localhost:8080/"
        },
        "id": "HuZQA5A8euru",
        "outputId": "aecd0917-5618-43ef-ec41-3234fdbc248b"
      },
      "execution_count": 10,
      "outputs": [
        {
          "output_type": "stream",
          "name": "stdout",
          "text": [
            "[1, 2, 3, 4, 5]\n"
          ]
        }
      ]
    },
    {
      "cell_type": "code",
      "source": [
        "# Q7. Write a code to append the number 10 to the list [1, 2, 3, 4]\n",
        "old_list = [1, 2, 3, 4]\n",
        "old_list.append(10)\n",
        "print(\"Updated list is:\", old_list)\n"
      ],
      "metadata": {
        "colab": {
          "base_uri": "https://localhost:8080/"
        },
        "id": "Kq_CLNxNfQvy",
        "outputId": "5c2e523d-cd0c-4e2a-fb27-a5b0509dcdb3"
      },
      "execution_count": 11,
      "outputs": [
        {
          "output_type": "stream",
          "name": "stdout",
          "text": [
            "Updated list is: [1, 2, 3, 4, 10]\n"
          ]
        }
      ]
    },
    {
      "cell_type": "code",
      "source": [
        "# Q8. Write a code to remove the number 3 from the list [1, 2, 3, 4, 5]\n",
        "a_list =  [1, 2, 3, 4, 5]\n",
        "a_list.remove(3)\n",
        "print(\"Updated list:\", a_list)\n"
      ],
      "metadata": {
        "colab": {
          "base_uri": "https://localhost:8080/"
        },
        "id": "pydBwiXCfs1r",
        "outputId": "d7613fed-6876-4070-bfae-29f2cab2c330"
      },
      "execution_count": 12,
      "outputs": [
        {
          "output_type": "stream",
          "name": "stdout",
          "text": [
            "Updated list: [1, 2, 4, 5]\n"
          ]
        }
      ]
    },
    {
      "cell_type": "code",
      "source": [
        "# Q9. Write a code to access the second element in the list ['a', 'b', 'c', 'd']\n",
        "lst = ['a', 'b', 'c', 'd']\n",
        "print(lst[1])"
      ],
      "metadata": {
        "colab": {
          "base_uri": "https://localhost:8080/"
        },
        "id": "rCu6pmj2f8r1",
        "outputId": "006145d2-1f40-4f9e-fd49-3d614865b0c0"
      },
      "execution_count": 13,
      "outputs": [
        {
          "output_type": "stream",
          "name": "stdout",
          "text": [
            "b\n"
          ]
        }
      ]
    },
    {
      "cell_type": "code",
      "source": [
        "# Q10. Write a code to reverse the list [10, 20, 30, 40, 50]\n",
        "lst = [10, 20, 30, 40, 50]\n",
        "lst.reverse()\n",
        "print(lst)"
      ],
      "metadata": {
        "colab": {
          "base_uri": "https://localhost:8080/"
        },
        "id": "bXOZ8a-KgRSy",
        "outputId": "1007d1e3-52c4-4016-b3dd-b6f5359f988f"
      },
      "execution_count": 14,
      "outputs": [
        {
          "output_type": "stream",
          "name": "stdout",
          "text": [
            "[50, 40, 30, 20, 10]\n"
          ]
        }
      ]
    },
    {
      "cell_type": "code",
      "source": [
        "# Q11. Write a code to create a tuple with the elements 100, 200, 300 and print it\n",
        "t = (100, 200, 300)\n",
        "print(t)"
      ],
      "metadata": {
        "colab": {
          "base_uri": "https://localhost:8080/"
        },
        "id": "MA9PHGEXgbeu",
        "outputId": "258fa0b7-8ceb-4912-b647-59a0e0e62885"
      },
      "execution_count": 15,
      "outputs": [
        {
          "output_type": "stream",
          "name": "stdout",
          "text": [
            "(100, 200, 300)\n"
          ]
        }
      ]
    },
    {
      "cell_type": "code",
      "source": [
        "# Q12. Write a code to access the second-to-last element of the tuple ('red', 'green', 'blue', 'yellow')\n",
        "t = ('red', 'green', 'blue', 'yellow')\n",
        "print(t[-2])"
      ],
      "metadata": {
        "colab": {
          "base_uri": "https://localhost:8080/"
        },
        "id": "Xv8iJR_Ugg1v",
        "outputId": "0996883b-e269-47d8-a958-68d36f148b6f"
      },
      "execution_count": 16,
      "outputs": [
        {
          "output_type": "stream",
          "name": "stdout",
          "text": [
            "blue\n"
          ]
        }
      ]
    },
    {
      "cell_type": "code",
      "source": [
        "# Q13. Write a code to find the minimum number in the tuple (10, 20, 5, 15)\n",
        "t = (10, 20, 5, 15)\n",
        "print(min(t))"
      ],
      "metadata": {
        "colab": {
          "base_uri": "https://localhost:8080/"
        },
        "id": "kTjC2pJzgqDo",
        "outputId": "3496eff7-ae50-4f50-87ba-906be8b945a3"
      },
      "execution_count": 17,
      "outputs": [
        {
          "output_type": "stream",
          "name": "stdout",
          "text": [
            "5\n"
          ]
        }
      ]
    },
    {
      "cell_type": "code",
      "source": [
        "# Q14. Write a code to find the index of the element \"cat\" in the tuple ('dog', 'cat', 'rabbit')\n",
        "t = ('dog', 'cat', 'rabbit')\n",
        "print(t.index('cat'))"
      ],
      "metadata": {
        "colab": {
          "base_uri": "https://localhost:8080/"
        },
        "id": "2Wbr97Ehg3Lf",
        "outputId": "90e27d0b-e3af-4bd0-eb0a-65322802f078"
      },
      "execution_count": 18,
      "outputs": [
        {
          "output_type": "stream",
          "name": "stdout",
          "text": [
            "1\n"
          ]
        }
      ]
    },
    {
      "cell_type": "code",
      "source": [
        "# Q15. Write a code to create a tuple containing three different fruits and check if \"kiwi\" is in it.\n",
        "fruits = ('apple', 'banana', 'orange')\n",
        "print('kiwi' in fruits)"
      ],
      "metadata": {
        "colab": {
          "base_uri": "https://localhost:8080/"
        },
        "id": "YIoeX0hWhNDC",
        "outputId": "4ea05933-0795-48d0-be22-7f013826e713"
      },
      "execution_count": 19,
      "outputs": [
        {
          "output_type": "stream",
          "name": "stdout",
          "text": [
            "False\n"
          ]
        }
      ]
    },
    {
      "cell_type": "code",
      "source": [
        "# Q16. Write a code to create a set with the elements 'a', 'b', 'c' and print it\n",
        "s = {'a', 'b', 'c'}\n",
        "print(s)"
      ],
      "metadata": {
        "colab": {
          "base_uri": "https://localhost:8080/"
        },
        "id": "vPBqx0DshTOm",
        "outputId": "c9796fc9-b3a5-4e93-9b01-7f9a7ba877dd"
      },
      "execution_count": 21,
      "outputs": [
        {
          "output_type": "stream",
          "name": "stdout",
          "text": [
            "{'c', 'b', 'a'}\n"
          ]
        }
      ]
    },
    {
      "cell_type": "code",
      "source": [
        "# Q17. Write a code to clear all elements from the set {1, 2, 3, 4, 5}.\n",
        "s = {1, 2, 3, 4, 5}\n",
        "s.clear()"
      ],
      "metadata": {
        "id": "Eke-mHdMkHZ7"
      },
      "execution_count": 22,
      "outputs": []
    },
    {
      "cell_type": "code",
      "source": [
        "# Q18. Write a code to remove the element 4 from the set {1, 2, 3, 4}.\n",
        "s = {1, 2, 3, 4}\n",
        "s.remove(4)\n",
        "print(s)"
      ],
      "metadata": {
        "colab": {
          "base_uri": "https://localhost:8080/"
        },
        "id": "OMnIN_RGkRwe",
        "outputId": "69204dba-fcaf-4bc4-e6ae-a839d0b14abb"
      },
      "execution_count": 23,
      "outputs": [
        {
          "output_type": "stream",
          "name": "stdout",
          "text": [
            "{1, 2, 3}\n"
          ]
        }
      ]
    },
    {
      "cell_type": "code",
      "source": [
        "# Q19. Write a code to find the union of two sets {1, 2, 3} and {3, 4, 5}\n",
        "s1 = {1, 2, 3}\n",
        "s2 = {3, 4, 5}\n",
        "union_set = s1.union(s2)\n",
        "print(union_set)"
      ],
      "metadata": {
        "colab": {
          "base_uri": "https://localhost:8080/"
        },
        "id": "0tgmOhD5kcU9",
        "outputId": "fdc8f6d5-9c5c-484e-c6ce-fa239c74eb3e"
      },
      "execution_count": 24,
      "outputs": [
        {
          "output_type": "stream",
          "name": "stdout",
          "text": [
            "{1, 2, 3, 4, 5}\n"
          ]
        }
      ]
    },
    {
      "cell_type": "code",
      "source": [
        "# Q20. Write a code to find the intersection of two sets {1, 2, 3} and {2, 3, 4}\n",
        "s1 = {1, 2, 3}\n",
        "s2 = {2, 3, 4}\n",
        "intersection_set = s1.intersection(s2)\n",
        "print(intersection_set)"
      ],
      "metadata": {
        "colab": {
          "base_uri": "https://localhost:8080/"
        },
        "id": "23u47iIekpq5",
        "outputId": "e1be5a68-4862-46b1-e363-16b505d9d0ce"
      },
      "execution_count": 25,
      "outputs": [
        {
          "output_type": "stream",
          "name": "stdout",
          "text": [
            "{2, 3}\n"
          ]
        }
      ]
    },
    {
      "cell_type": "code",
      "source": [
        "# Q21. Write a code to create a dictionary with the keys \"name\", \"age\", and \"city\", and print it\n",
        "d = {\"name\": \"John\", \"age\": 25, \"city\": \"New York\"}\n",
        "print(d)"
      ],
      "metadata": {
        "colab": {
          "base_uri": "https://localhost:8080/"
        },
        "id": "HqisVNs0lPFt",
        "outputId": "ff6ada3f-be98-4793-9d05-194888e1cbf4"
      },
      "execution_count": 26,
      "outputs": [
        {
          "output_type": "stream",
          "name": "stdout",
          "text": [
            "{'name': 'John', 'age': 25, 'city': 'New York'}\n"
          ]
        }
      ]
    },
    {
      "cell_type": "code",
      "source": [
        "# Q22. Write a code to add a new key-value pair \"country\": \"USA\" to the dictionary {'name': 'John', 'age': 25}\n",
        "d = {'name': 'John', 'age': 25}\n",
        "d['country'] = 'USA'\n",
        "print(d)"
      ],
      "metadata": {
        "colab": {
          "base_uri": "https://localhost:8080/"
        },
        "id": "WbhMoXwNlVxf",
        "outputId": "f5d91547-7269-4033-bfc4-490f5a8b6592"
      },
      "execution_count": 27,
      "outputs": [
        {
          "output_type": "stream",
          "name": "stdout",
          "text": [
            "{'name': 'John', 'age': 25, 'country': 'USA'}\n"
          ]
        }
      ]
    },
    {
      "cell_type": "code",
      "source": [
        "# Q23. Write a code to access the value associated with the key \"name\" in the dictionary {'name': 'Alice', 'age': 30}\n",
        "d = {'name': 'Alice', 'age': 30}\n",
        "print(d['name'])"
      ],
      "metadata": {
        "colab": {
          "base_uri": "https://localhost:8080/"
        },
        "id": "J-Q_Hk0ulnwS",
        "outputId": "053df26a-fb77-4565-9801-79ffa76bab4e"
      },
      "execution_count": 28,
      "outputs": [
        {
          "output_type": "stream",
          "name": "stdout",
          "text": [
            "Alice\n"
          ]
        }
      ]
    },
    {
      "cell_type": "code",
      "source": [
        "# Q24. Write a code to remove the key \"age\" from the dictionary {'name': 'Bob', 'age': 22, 'city': 'New York'}\n",
        "d = {'name': 'Bob', 'age': 22, 'city': 'New York'}\n",
        "d.pop('age')\n",
        "print(d)"
      ],
      "metadata": {
        "colab": {
          "base_uri": "https://localhost:8080/"
        },
        "id": "0WaFK23RluWs",
        "outputId": "03c505ce-f8a1-4f94-8a07-133a2ee275c7"
      },
      "execution_count": 29,
      "outputs": [
        {
          "output_type": "stream",
          "name": "stdout",
          "text": [
            "{'name': 'Bob', 'city': 'New York'}\n"
          ]
        }
      ]
    },
    {
      "cell_type": "code",
      "source": [
        "# Q25. Write a code to check if the key \"city\" exists in the dictionary {'name': 'Alice', 'city': 'Paris'}.\n",
        "d = {'name': 'Alice', 'city': 'Paris'}\n",
        "print('city' in d)"
      ],
      "metadata": {
        "colab": {
          "base_uri": "https://localhost:8080/"
        },
        "id": "Lrs1LCjel1Iy",
        "outputId": "cac1abba-e256-4e74-83da-93074b2b29d1"
      },
      "execution_count": 30,
      "outputs": [
        {
          "output_type": "stream",
          "name": "stdout",
          "text": [
            "True\n"
          ]
        }
      ]
    },
    {
      "cell_type": "code",
      "source": [
        "# Q26. Write a code to create a list, a tuple, and adictionary, and print them all.\n",
        "lst = [1, 2, 3]\n",
        "t = (4, 5, 6)\n",
        "d = {'a': 7, 'b': 8}\n",
        "\n",
        "print(lst)\n",
        "print(t)\n",
        "print(d)"
      ],
      "metadata": {
        "colab": {
          "base_uri": "https://localhost:8080/"
        },
        "id": "aX0h26mZl9_w",
        "outputId": "5f1a9e66-07a8-42db-89c7-11b0a580e999"
      },
      "execution_count": 31,
      "outputs": [
        {
          "output_type": "stream",
          "name": "stdout",
          "text": [
            "[1, 2, 3]\n",
            "(4, 5, 6)\n",
            "{'a': 7, 'b': 8}\n"
          ]
        }
      ]
    },
    {
      "cell_type": "code",
      "source": [
        "# Q27. Write a code to create a list of 5 random numbers between 1 and 100, sort it in ascending order, and print the result.\n",
        "import random\n",
        "rand_list = random.sample(range(1, 101), 5)\n",
        "rand_list.sort()\n",
        "print(rand_list)"
      ],
      "metadata": {
        "colab": {
          "base_uri": "https://localhost:8080/"
        },
        "id": "UV1GvC21mEsI",
        "outputId": "b26e242d-0052-4df4-9d42-bc9eb7eadbc6"
      },
      "execution_count": 32,
      "outputs": [
        {
          "output_type": "stream",
          "name": "stdout",
          "text": [
            "[21, 34, 60, 69, 84]\n"
          ]
        }
      ]
    },
    {
      "cell_type": "code",
      "source": [
        "# Q28. Write a code to create a list with strings and print the element at the third index.\n",
        "lst = ['apple', 'banana', 'cherry', 'date', 'cake']\n",
        "print(lst[3])"
      ],
      "metadata": {
        "colab": {
          "base_uri": "https://localhost:8080/"
        },
        "id": "bHQZzUhsmaN6",
        "outputId": "4e0f6c51-185a-4cf9-a7f8-3b95e55cd95f"
      },
      "execution_count": 34,
      "outputs": [
        {
          "output_type": "stream",
          "name": "stdout",
          "text": [
            "date\n"
          ]
        }
      ]
    },
    {
      "cell_type": "code",
      "source": [
        "# Q29. Write a code to combine two dictionaries into one and print the result.\n",
        "d1 = {'a': 1, 'b': 2}\n",
        "d2 = {'c': 3, 'd': 4}\n",
        "combined_dict = {**d1, **d2}\n",
        "print(combined_dict)"
      ],
      "metadata": {
        "colab": {
          "base_uri": "https://localhost:8080/"
        },
        "id": "fSjStLmQml-P",
        "outputId": "0cabbbf8-7e0b-4203-9d5b-0a0cb341a9ab"
      },
      "execution_count": 35,
      "outputs": [
        {
          "output_type": "stream",
          "name": "stdout",
          "text": [
            "{'a': 1, 'b': 2, 'c': 3, 'd': 4}\n"
          ]
        }
      ]
    },
    {
      "cell_type": "code",
      "source": [
        "# Q30. Write a code to convert a list of strings into a set.\n",
        "lst = ['apple', 'banana', 'apple', 'cherry']\n",
        "unique_set = set(lst)\n",
        "print(unique_set)"
      ],
      "metadata": {
        "colab": {
          "base_uri": "https://localhost:8080/"
        },
        "id": "uUrK-wY7m1wJ",
        "outputId": "62e8b380-2436-42d8-e9fe-37bf5d1e9705"
      },
      "execution_count": 36,
      "outputs": [
        {
          "output_type": "stream",
          "name": "stdout",
          "text": [
            "{'apple', 'cherry', 'banana'}\n"
          ]
        }
      ]
    }
  ]
}
